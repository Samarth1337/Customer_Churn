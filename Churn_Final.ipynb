{
  "nbformat": 4,
  "nbformat_minor": 0,
  "metadata": {
    "kernelspec": {
      "display_name": "Python 3",
      "language": "python",
      "name": "python3"
    },
    "language_info": {
      "codemirror_mode": {
        "name": "ipython",
        "version": 3
      },
      "file_extension": ".py",
      "mimetype": "text/x-python",
      "name": "python",
      "nbconvert_exporter": "python",
      "pygments_lexer": "ipython3",
      "version": "3.7.2"
    },
    "colab": {
      "name": "Sample_Skeleton.ipynb",
      "provenance": [],
      "collapsed_sections": [
        "Zb_3y34_2K2Z"
      ],
      "toc_visible": true
    }
  },
  "cells": [
    {
      "cell_type": "markdown",
      "metadata": {
        "id": "x0Xu5QZn2K2R"
      },
      "source": [
        "### Importing the data \n"
      ]
    },
    {
      "cell_type": "code",
      "metadata": {
        "id": "XB6dKXYF2K2R"
      },
      "source": [
        "import pandas as pd\n",
        "import numpy as np\n",
        "\n",
        "import matplotlib.pyplot as plt\n",
        "import seaborn as sns\n",
        "%matplotlib inline\n",
        "\n",
        "import warnings\n",
        "warnings.filterwarnings('ignore')\n",
        "sns.set(style=\"white\")\n",
        "\n",
        "from sklearn.utils import shuffle"
      ],
      "execution_count": 1,
      "outputs": []
    },
    {
      "cell_type": "code",
      "metadata": {
        "id": "QlKrVufLUl8J"
      },
      "source": [
        "df=pd.read_csv('Churn.csv',encoding='utf-8')\n",
        "\n",
        "df=shuffle(df,random_state=42)"
      ],
      "execution_count": 2,
      "outputs": []
    },
    {
      "cell_type": "markdown",
      "metadata": {
        "id": "hHM8d3AS2K2S"
      },
      "source": [
        "### Understanding the data"
      ]
    },
    {
      "cell_type": "code",
      "metadata": {
        "id": "8e5l-9nH2K2S",
        "colab": {
          "base_uri": "https://localhost:8080/"
        },
        "outputId": "bd7020f0-3810-4ff4-df07-8f429e58f018"
      },
      "source": [
        "df.shape"
      ],
      "execution_count": 3,
      "outputs": [
        {
          "output_type": "execute_result",
          "data": {
            "text/plain": [
              "(7043, 21)"
            ]
          },
          "metadata": {
            "tags": []
          },
          "execution_count": 3
        }
      ]
    },
    {
      "cell_type": "code",
      "metadata": {
        "id": "v5kPD6hx2K2T",
        "colab": {
          "base_uri": "https://localhost:8080/"
        },
        "outputId": "48a450e2-358a-4e2d-d66b-2f2c9f2fc9f4"
      },
      "source": [
        "df.columns"
      ],
      "execution_count": 4,
      "outputs": [
        {
          "output_type": "execute_result",
          "data": {
            "text/plain": [
              "Index(['customerID', 'gender', 'SeniorCitizen', 'Partner', 'Dependents',\n",
              "       'tenure', 'PhoneService', 'MultipleLines', 'InternetService',\n",
              "       'OnlineSecurity', 'OnlineBackup', 'DeviceProtection', 'TechSupport',\n",
              "       'StreamingTV', 'StreamingMovies', 'Contract', 'PaperlessBilling',\n",
              "       'PaymentMethod', 'MonthlyCharges', 'TotalCharges', 'Churn'],\n",
              "      dtype='object')"
            ]
          },
          "metadata": {
            "tags": []
          },
          "execution_count": 4
        }
      ]
    },
    {
      "cell_type": "code",
      "metadata": {
        "id": "USZa596Q2K2T",
        "colab": {
          "base_uri": "https://localhost:8080/"
        },
        "outputId": "8cc1ef63-f7fb-43d3-954a-03adf60a20c6"
      },
      "source": [
        "df.iloc[1,:]"
      ],
      "execution_count": 5,
      "outputs": [
        {
          "output_type": "execute_result",
          "data": {
            "text/plain": [
              "customerID                         0484-JPBRU\n",
              "gender                                   Male\n",
              "SeniorCitizen                               0\n",
              "Partner                                    No\n",
              "Dependents                                 No\n",
              "tenure                                     41\n",
              "PhoneService                              Yes\n",
              "MultipleLines                             Yes\n",
              "InternetService                            No\n",
              "OnlineSecurity            No internet service\n",
              "OnlineBackup              No internet service\n",
              "DeviceProtection          No internet service\n",
              "TechSupport               No internet service\n",
              "StreamingTV               No internet service\n",
              "StreamingMovies           No internet service\n",
              "Contract                       Month-to-month\n",
              "PaperlessBilling                          Yes\n",
              "PaymentMethod       Bank transfer (automatic)\n",
              "MonthlyCharges                          25.25\n",
              "TotalCharges                           996.45\n",
              "Churn                                      No\n",
              "Name: 2715, dtype: object"
            ]
          },
          "metadata": {
            "tags": []
          },
          "execution_count": 5
        }
      ]
    },
    {
      "cell_type": "code",
      "metadata": {
        "id": "E6z9ypi62K2T",
        "colab": {
          "base_uri": "https://localhost:8080/",
          "height": 213
        },
        "outputId": "a1abd66d-70b5-4c0b-eea7-bfe691cfc9ec"
      },
      "source": [
        "ax = sns.catplot(y=\"Churn\", kind=\"count\", data=df, height=2.6, aspect=2.5, orient='h')"
      ],
      "execution_count": 6,
      "outputs": [
        {
          "output_type": "display_data",
          "data": {
            "image/png": "[encoded data removed]",
            "text/plain": [
              "<Figure size 468x187.2 with 1 Axes>"
            ]
          },
          "metadata": {
            "tags": [],
            "needs_background": "light"
          }
        }
      ]
    },
    {
      "cell_type": "code",
      "metadata": {
        "id": "cQWmJjb12K2U",
        "colab": {
          "base_uri": "https://localhost:8080/"
        },
        "outputId": "84bd2286-01f2-4381-c377-b3070ed6bc03"
      },
      "source": [
        "df.dtypes"
      ],
      "execution_count": 7,
      "outputs": [
        {
          "output_type": "execute_result",
          "data": {
            "text/plain": [
              "customerID           object\n",
              "gender               object\n",
              "SeniorCitizen         int64\n",
              "Partner              object\n",
              "Dependents           object\n",
              "tenure                int64\n",
              "PhoneService         object\n",
              "MultipleLines        object\n",
              "InternetService      object\n",
              "OnlineSecurity       object\n",
              "OnlineBackup         object\n",
              "DeviceProtection     object\n",
              "TechSupport          object\n",
              "StreamingTV          object\n",
              "StreamingMovies      object\n",
              "Contract             object\n",
              "PaperlessBilling     object\n",
              "PaymentMethod        object\n",
              "MonthlyCharges      float64\n",
              "TotalCharges         object\n",
              "Churn                object\n",
              "dtype: object"
            ]
          },
          "metadata": {
            "tags": []
          },
          "execution_count": 7
        }
      ]
    },
    {
      "cell_type": "code",
      "metadata": {
        "colab": {
          "base_uri": "https://localhost:8080/"
        },
        "id": "iQfLUnEwWHOV",
        "outputId": "a406a8b0-7bcb-4c85-dbd6-318f6da2a2ed"
      },
      "source": [
        "df.isnull().sum()"
      ],
      "execution_count": 8,
      "outputs": [
        {
          "output_type": "execute_result",
          "data": {
            "text/plain": [
              "customerID          0\n",
              "gender              0\n",
              "SeniorCitizen       0\n",
              "Partner             0\n",
              "Dependents          0\n",
              "tenure              0\n",
              "PhoneService        0\n",
              "MultipleLines       0\n",
              "InternetService     0\n",
              "OnlineSecurity      0\n",
              "OnlineBackup        0\n",
              "DeviceProtection    0\n",
              "TechSupport         0\n",
              "StreamingTV         0\n",
              "StreamingMovies     0\n",
              "Contract            0\n",
              "PaperlessBilling    0\n",
              "PaymentMethod       0\n",
              "MonthlyCharges      0\n",
              "TotalCharges        0\n",
              "Churn               0\n",
              "dtype: int64"
            ]
          },
          "metadata": {
            "tags": []
          },
          "execution_count": 8
        }
      ]
    },
    {
      "cell_type": "markdown",
      "metadata": {
        "id": "Yzc9VQaYYHIC"
      },
      "source": [
        "There are no missing values in the data. (No NaN values)\n"
      ]
    },
    {
      "cell_type": "code",
      "metadata": {
        "colab": {
          "base_uri": "https://localhost:8080/",
          "height": 309
        },
        "id": "DUU5gViaWHT2",
        "outputId": "3fa08788-502f-4936-bc2d-8756105257fe"
      },
      "source": [
        "df.head()"
      ],
      "execution_count": 9,
      "outputs": [
        {
          "output_type": "execute_result",
          "data": {
            "text/html": [
              "<div>\n",
              "<style scoped>\n",
              "    .dataframe tbody tr th:only-of-type {\n",
              "        vertical-align: middle;\n",
              "    }\n",
              "\n",
              "    .dataframe tbody tr th {\n",
              "        vertical-align: top;\n",
              "    }\n",
              "\n",
              "    .dataframe thead th {\n",
              "        text-align: right;\n",
              "    }\n",
              "</style>\n",
              "<table border=\"1\" class=\"dataframe\">\n",
              "  <thead>\n",
              "    <tr style=\"text-align: right;\">\n",
              "      <th></th>\n",
              "      <th>customerID</th>\n",
              "      <th>gender</th>\n",
              "      <th>SeniorCitizen</th>\n",
              "      <th>Partner</th>\n",
              "      <th>Dependents</th>\n",
              "      <th>tenure</th>\n",
              "      <th>PhoneService</th>\n",
              "      <th>MultipleLines</th>\n",
              "      <th>InternetService</th>\n",
              "      <th>OnlineSecurity</th>\n",
              "      <th>OnlineBackup</th>\n",
              "      <th>DeviceProtection</th>\n",
              "      <th>TechSupport</th>\n",
              "      <th>StreamingTV</th>\n",
              "      <th>StreamingMovies</th>\n",
              "      <th>Contract</th>\n",
              "      <th>PaperlessBilling</th>\n",
              "      <th>PaymentMethod</th>\n",
              "      <th>MonthlyCharges</th>\n",
              "      <th>TotalCharges</th>\n",
              "      <th>Churn</th>\n",
              "    </tr>\n",
              "  </thead>\n",
              "  <tbody>\n",
              "    <tr>\n",
              "      <th>185</th>\n",
              "      <td>1024-GUALD</td>\n",
              "      <td>Female</td>\n",
              "      <td>0</td>\n",
              "      <td>Yes</td>\n",
              "      <td>No</td>\n",
              "      <td>1</td>\n",
              "      <td>No</td>\n",
              "      <td>No phone service</td>\n",
              "      <td>DSL</td>\n",
              "      <td>No</td>\n",
              "      <td>No</td>\n",
              "      <td>No</td>\n",
              "      <td>No</td>\n",
              "      <td>No</td>\n",
              "      <td>No</td>\n",
              "      <td>Month-to-month</td>\n",
              "      <td>Yes</td>\n",
              "      <td>Electronic check</td>\n",
              "      <td>24.80</td>\n",
              "      <td>24.8</td>\n",
              "      <td>Yes</td>\n",
              "    </tr>\n",
              "    <tr>\n",
              "      <th>2715</th>\n",
              "      <td>0484-JPBRU</td>\n",
              "      <td>Male</td>\n",
              "      <td>0</td>\n",
              "      <td>No</td>\n",
              "      <td>No</td>\n",
              "      <td>41</td>\n",
              "      <td>Yes</td>\n",
              "      <td>Yes</td>\n",
              "      <td>No</td>\n",
              "      <td>No internet service</td>\n",
              "      <td>No internet service</td>\n",
              "      <td>No internet service</td>\n",
              "      <td>No internet service</td>\n",
              "      <td>No internet service</td>\n",
              "      <td>No internet service</td>\n",
              "      <td>Month-to-month</td>\n",
              "      <td>Yes</td>\n",
              "      <td>Bank transfer (automatic)</td>\n",
              "      <td>25.25</td>\n",
              "      <td>996.45</td>\n",
              "      <td>No</td>\n",
              "    </tr>\n",
              "    <tr>\n",
              "      <th>3825</th>\n",
              "      <td>3620-EHIMZ</td>\n",
              "      <td>Female</td>\n",
              "      <td>0</td>\n",
              "      <td>Yes</td>\n",
              "      <td>Yes</td>\n",
              "      <td>52</td>\n",
              "      <td>Yes</td>\n",
              "      <td>No</td>\n",
              "      <td>No</td>\n",
              "      <td>No internet service</td>\n",
              "      <td>No internet service</td>\n",
              "      <td>No internet service</td>\n",
              "      <td>No internet service</td>\n",
              "      <td>No internet service</td>\n",
              "      <td>No internet service</td>\n",
              "      <td>Two year</td>\n",
              "      <td>No</td>\n",
              "      <td>Mailed check</td>\n",
              "      <td>19.35</td>\n",
              "      <td>1031.7</td>\n",
              "      <td>No</td>\n",
              "    </tr>\n",
              "    <tr>\n",
              "      <th>1807</th>\n",
              "      <td>6910-HADCM</td>\n",
              "      <td>Female</td>\n",
              "      <td>0</td>\n",
              "      <td>No</td>\n",
              "      <td>No</td>\n",
              "      <td>1</td>\n",
              "      <td>Yes</td>\n",
              "      <td>No</td>\n",
              "      <td>Fiber optic</td>\n",
              "      <td>No</td>\n",
              "      <td>No</td>\n",
              "      <td>Yes</td>\n",
              "      <td>No</td>\n",
              "      <td>No</td>\n",
              "      <td>No</td>\n",
              "      <td>Month-to-month</td>\n",
              "      <td>No</td>\n",
              "      <td>Electronic check</td>\n",
              "      <td>76.35</td>\n",
              "      <td>76.35</td>\n",
              "      <td>Yes</td>\n",
              "    </tr>\n",
              "    <tr>\n",
              "      <th>132</th>\n",
              "      <td>8587-XYZSF</td>\n",
              "      <td>Male</td>\n",
              "      <td>0</td>\n",
              "      <td>No</td>\n",
              "      <td>No</td>\n",
              "      <td>67</td>\n",
              "      <td>Yes</td>\n",
              "      <td>No</td>\n",
              "      <td>DSL</td>\n",
              "      <td>No</td>\n",
              "      <td>No</td>\n",
              "      <td>No</td>\n",
              "      <td>Yes</td>\n",
              "      <td>No</td>\n",
              "      <td>No</td>\n",
              "      <td>Two year</td>\n",
              "      <td>No</td>\n",
              "      <td>Bank transfer (automatic)</td>\n",
              "      <td>50.55</td>\n",
              "      <td>3260.1</td>\n",
              "      <td>No</td>\n",
              "    </tr>\n",
              "  </tbody>\n",
              "</table>\n",
              "</div>"
            ],
            "text/plain": [
              "      customerID  gender  SeniorCitizen  ... MonthlyCharges TotalCharges  Churn\n",
              "185   1024-GUALD  Female              0  ...          24.80         24.8    Yes\n",
              "2715  0484-JPBRU    Male              0  ...          25.25       996.45     No\n",
              "3825  3620-EHIMZ  Female              0  ...          19.35       1031.7     No\n",
              "1807  6910-HADCM  Female              0  ...          76.35        76.35    Yes\n",
              "132   8587-XYZSF    Male              0  ...          50.55       3260.1     No\n",
              "\n",
              "[5 rows x 21 columns]"
            ]
          },
          "metadata": {
            "tags": []
          },
          "execution_count": 9
        }
      ]
    },
    {
      "cell_type": "code",
      "metadata": {
        "colab": {
          "base_uri": "https://localhost:8080/",
          "height": 466
        },
        "id": "up64zcAyWHVx",
        "outputId": "c4be0dd5-36a4-4f43-d6f9-526e0f52abe6"
      },
      "source": [
        "plt.figure(figsize=(12, 6))\n",
        "hm=df.drop(['customerID'],\n",
        "        axis=1, inplace=False)\n",
        "corr = hm.apply(lambda x: pd.factorize(x)[0]).corr()\n",
        "ax = sns.heatmap(corr, xticklabels=corr.columns, yticklabels=corr.columns, \n",
        "                 linewidths=.2, cmap=\"YlGnBu\")"
      ],
      "execution_count": 10,
      "outputs": [
        {
          "output_type": "display_data",
          "data": {
            "image/png": "[encoded data removed]",
            "text/plain": [
              "<Figure size 864x432 with 2 Axes>"
            ]
          },
          "metadata": {
            "tags": [],
            "needs_background": "light"
          }
        }
      ]
    },
    {
      "cell_type": "code",
      "metadata": {
        "colab": {
          "base_uri": "https://localhost:8080/"
        },
        "id": "OP4fj2ESWHYB",
        "outputId": "2bb7c455-9fdf-49a2-ddf8-2e5f3d989136"
      },
      "source": [
        "df.describe"
      ],
      "execution_count": 11,
      "outputs": [
        {
          "output_type": "execute_result",
          "data": {
            "text/plain": [
              "<bound method NDFrame.describe of       customerID  gender  SeniorCitizen  ... MonthlyCharges TotalCharges  Churn\n",
              "185   1024-GUALD  Female              0  ...          24.80         24.8    Yes\n",
              "2715  0484-JPBRU    Male              0  ...          25.25       996.45     No\n",
              "3825  3620-EHIMZ  Female              0  ...          19.35       1031.7     No\n",
              "1807  6910-HADCM  Female              0  ...          76.35        76.35    Yes\n",
              "132   8587-XYZSF    Male              0  ...          50.55       3260.1     No\n",
              "...          ...     ...            ...  ...            ...          ...    ...\n",
              "3772  0684-AOSIH    Male              0  ...          95.00           95    Yes\n",
              "5191  5982-PSMKW  Female              0  ...          91.10       2198.3     No\n",
              "5226  8044-BGWPI    Male              0  ...          21.15       306.05     No\n",
              "5390  7450-NWRTR    Male              1  ...          99.45      1200.15    Yes\n",
              "860   4795-UXVCJ    Male              0  ...          19.80        457.3     No\n",
              "\n",
              "[7043 rows x 21 columns]>"
            ]
          },
          "metadata": {
            "tags": []
          },
          "execution_count": 11
        }
      ]
    },
    {
      "cell_type": "code",
      "metadata": {
        "colab": {
          "base_uri": "https://localhost:8080/"
        },
        "id": "GsZHqQwaWHaR",
        "outputId": "a3ce8b06-1cae-4616-8761-5acd9e472020"
      },
      "source": [
        "df.value_counts()"
      ],
      "execution_count": 12,
      "outputs": [
        {
          "output_type": "execute_result",
          "data": {
            "text/plain": [
              "customerID  gender  SeniorCitizen  Partner  Dependents  tenure  PhoneService  MultipleLines     InternetService  OnlineSecurity       OnlineBackup         DeviceProtection     TechSupport          StreamingTV          StreamingMovies      Contract        PaperlessBilling  PaymentMethod              MonthlyCharges  TotalCharges  Churn\n",
              "9995-HOTOH  Male    0              Yes      Yes         63      No            No phone service  DSL              Yes                  Yes                  Yes                  No                   Yes                  Yes                  Two year        No                Electronic check           59.00           3707.6        No       1\n",
              "3370-HXOPH  Female  0              No       No          3       Yes           Yes               Fiber optic      No                   No                   No                   No                   No                   No                   Month-to-month  No                Electronic check           76.10           257.6         No       1\n",
              "3349-ANQNH  Female  1              No       No          59      Yes           Yes               Fiber optic      No                   No                   Yes                  No                   Yes                  Yes                  One year        Yes               Electronic check           99.50           5890          No       1\n",
              "3351-NGXYI  Female  1              No       No          16      Yes           Yes               DSL              Yes                  No                   No                   No                   No                   No                   Month-to-month  Yes               Electronic check           54.10           889           No       1\n",
              "3351-NQLDI  Female  0              Yes      Yes         67      Yes           Yes               Fiber optic      Yes                  No                   No                   Yes                  No                   Yes                  One year        Yes               Credit card (automatic)    94.35           6341.45       Yes      1\n",
              "                                                                                                                                                                                                                                                                                                                                                  ..\n",
              "6621-YOBKI  Male    0              No       No          5       Yes           No                No               No internet service  No internet service  No internet service  No internet service  No internet service  No internet service  Month-to-month  No                Mailed check               20.35           92.75         No       1\n",
              "6624-JDRDS  Female  0              No       No          6       No            No phone service  DSL              Yes                  No                   No                   No                   No                   No                   Month-to-month  No                Bank transfer (automatic)  29.45           161.45        No       1\n",
              "6625-FLENO  Male    0              Yes      No          58      Yes           No                No               No internet service  No internet service  No internet service  No internet service  No internet service  No internet service  Two year        No                Mailed check               20.75           1185.95       No       1\n",
              "6625-IUTTT  Male    0              No       No          67      Yes           No                DSL              Yes                  No                   Yes                  No                   No                   Yes                  Two year        No                Bank transfer (automatic)  65.55           4361.55       No       1\n",
              "0002-ORFBO  Female  0              Yes      Yes         9       Yes           No                DSL              No                   Yes                  No                   Yes                  Yes                  No                   One year        Yes               Mailed check               65.60           593.3         No       1\n",
              "Length: 7043, dtype: int64"
            ]
          },
          "metadata": {
            "tags": []
          },
          "execution_count": 12
        }
      ]
    },
    {
      "cell_type": "code",
      "metadata": {
        "colab": {
          "base_uri": "https://localhost:8080/"
        },
        "id": "Q4DxzARBWHch",
        "outputId": "eb456b6c-bf8b-45d2-aa2b-70338351d24a"
      },
      "source": [
        "df['gender'].value_counts()"
      ],
      "execution_count": 13,
      "outputs": [
        {
          "output_type": "execute_result",
          "data": {
            "text/plain": [
              "Male      3555\n",
              "Female    3488\n",
              "Name: gender, dtype: int64"
            ]
          },
          "metadata": {
            "tags": []
          },
          "execution_count": 13
        }
      ]
    },
    {
      "cell_type": "code",
      "metadata": {
        "colab": {
          "base_uri": "https://localhost:8080/",
          "height": 213
        },
        "id": "TFNUyFdaWHev",
        "outputId": "3567678f-0616-4cca-9094-4ca405babc59"
      },
      "source": [
        "ax = sns.catplot(y=\"gender\", kind=\"count\", data=df, height=2.6, aspect=2.5, orient='h')"
      ],
      "execution_count": 14,
      "outputs": [
        {
          "output_type": "display_data",
          "data": {
            "image/png": "[encoded data removed]",
            "text/plain": [
              "<Figure size 468x187.2 with 1 Axes>"
            ]
          },
          "metadata": {
            "tags": [],
            "needs_background": "light"
          }
        }
      ]
    },
    {
      "cell_type": "markdown",
      "metadata": {
        "id": "6Kb4z-4rc8s4"
      },
      "source": [
        "# Data Manipulation and Visualization"
      ]
    },
    {
      "cell_type": "code",
      "metadata": {
        "id": "ip-zJlL7bL4V"
      },
      "source": [
        "categorical_cols=['gender',\n",
        "'Partner',\n",
        "'Dependents',\n",
        "'PhoneService',\n",
        "'MultipleLines',\n",
        "'InternetService',\n",
        "'OnlineSecurity',\n",
        "'OnlineBackup',\n",
        "'DeviceProtection',\n",
        "'TechSupport',\n",
        "'StreamingTV',\n",
        "'StreamingMovies',\n",
        "'Contract',\n",
        "'PaperlessBilling',\n",
        "'PaymentMethod',\n",
        "'SeniorCitizen']"
      ],
      "execution_count": 15,
      "outputs": []
    },
    {
      "cell_type": "code",
      "metadata": {
        "colab": {
          "base_uri": "https://localhost:8080/"
        },
        "id": "9pWxyNcZbL6c",
        "outputId": "74e589ce-67a8-4eb1-c120-4113b2adddd6"
      },
      "source": [
        "df[categorical_cols].nunique()"
      ],
      "execution_count": 16,
      "outputs": [
        {
          "output_type": "execute_result",
          "data": {
            "text/plain": [
              "gender              2\n",
              "Partner             2\n",
              "Dependents          2\n",
              "PhoneService        2\n",
              "MultipleLines       3\n",
              "InternetService     3\n",
              "OnlineSecurity      3\n",
              "OnlineBackup        3\n",
              "DeviceProtection    3\n",
              "TechSupport         3\n",
              "StreamingTV         3\n",
              "StreamingMovies     3\n",
              "Contract            3\n",
              "PaperlessBilling    2\n",
              "PaymentMethod       4\n",
              "SeniorCitizen       2\n",
              "dtype: int64"
            ]
          },
          "metadata": {
            "tags": []
          },
          "execution_count": 16
        }
      ]
    },
    {
      "cell_type": "markdown",
      "metadata": {
        "id": "2J7D3tGZxDAC"
      },
      "source": [
        "Since data definition is not given,\n",
        "in the StreamingMovies Variable, assuming that No internet service is a valid input and maps to the correct pattern (is not a value that needs to be replaced by Yes/No). Assuming that same goes for other categorical variables that have values like No phone service and No internet service."
      ]
    },
    {
      "cell_type": "code",
      "metadata": {
        "colab": {
          "base_uri": "https://localhost:8080/"
        },
        "id": "wtwvS_68bMKB",
        "outputId": "57692963-4545-4054-afa6-43f0164ad690"
      },
      "source": [
        "df['TotalCharges'].value_counts()"
      ],
      "execution_count": 17,
      "outputs": [
        {
          "output_type": "execute_result",
          "data": {
            "text/plain": [
              "          11\n",
              "20.2      11\n",
              "19.75      9\n",
              "20.05      8\n",
              "19.65      8\n",
              "          ..\n",
              "6172       1\n",
              "826        1\n",
              "293.65     1\n",
              "6273.4     1\n",
              "81         1\n",
              "Name: TotalCharges, Length: 6531, dtype: int64"
            ]
          },
          "metadata": {
            "tags": []
          },
          "execution_count": 17
        }
      ]
    },
    {
      "cell_type": "code",
      "metadata": {
        "colab": {
          "base_uri": "https://localhost:8080/"
        },
        "id": "hwm3UdaKbMM6",
        "outputId": "854e77e1-054d-4a56-98ab-d45541123d9a"
      },
      "source": [
        "df['MonthlyCharges'].value_counts()"
      ],
      "execution_count": 18,
      "outputs": [
        {
          "output_type": "execute_result",
          "data": {
            "text/plain": [
              "20.05     61\n",
              "19.85     45\n",
              "19.90     44\n",
              "19.95     44\n",
              "19.65     43\n",
              "          ..\n",
              "31.00      1\n",
              "39.05      1\n",
              "109.00     1\n",
              "105.80     1\n",
              "112.90     1\n",
              "Name: MonthlyCharges, Length: 1585, dtype: int64"
            ]
          },
          "metadata": {
            "tags": []
          },
          "execution_count": 18
        }
      ]
    },
    {
      "cell_type": "code",
      "metadata": {
        "colab": {
          "base_uri": "https://localhost:8080/",
          "height": 302
        },
        "id": "KRaYYiVjbMPB",
        "outputId": "02918a19-2481-40c3-fd02-c186e1834a81"
      },
      "source": [
        "sns.boxplot(df['MonthlyCharges'])"
      ],
      "execution_count": 19,
      "outputs": [
        {
          "output_type": "execute_result",
          "data": {
            "text/plain": [
              "<matplotlib.axes._subplots.AxesSubplot at 0x7fd2b7ac7c10>"
            ]
          },
          "metadata": {
            "tags": []
          },
          "execution_count": 19
        },
        {
          "output_type": "display_data",
          "data": {
            "image/png": "[encoded data removed]",
            "text/plain": [
              "<Figure size 432x288 with 1 Axes>"
            ]
          },
          "metadata": {
            "tags": [],
            "needs_background": "light"
          }
        }
      ]
    },
    {
      "cell_type": "code",
      "metadata": {
        "colab": {
          "base_uri": "https://localhost:8080/"
        },
        "id": "JHYKX9cjbMUC",
        "outputId": "ca911703-8daa-4ec1-948b-c6d8eed1a7db"
      },
      "source": [
        "df['TotalCharges'].describe"
      ],
      "execution_count": 20,
      "outputs": [
        {
          "output_type": "execute_result",
          "data": {
            "text/plain": [
              "<bound method NDFrame.describe of 185        24.8\n",
              "2715     996.45\n",
              "3825     1031.7\n",
              "1807      76.35\n",
              "132      3260.1\n",
              "         ...   \n",
              "3772         95\n",
              "5191     2198.3\n",
              "5226     306.05\n",
              "5390    1200.15\n",
              "860       457.3\n",
              "Name: TotalCharges, Length: 7043, dtype: object>"
            ]
          },
          "metadata": {
            "tags": []
          },
          "execution_count": 20
        }
      ]
    },
    {
      "cell_type": "code",
      "metadata": {
        "colab": {
          "base_uri": "https://localhost:8080/"
        },
        "id": "KJCJK9aAbMVj",
        "outputId": "99207049-dbf4-4181-fe7a-b3d6b80d2584"
      },
      "source": [
        "df['TotalCharges'][:10]"
      ],
      "execution_count": 21,
      "outputs": [
        {
          "output_type": "execute_result",
          "data": {
            "text/plain": [
              "185        24.8\n",
              "2715     996.45\n",
              "3825     1031.7\n",
              "1807      76.35\n",
              "132      3260.1\n",
              "1263     6127.6\n",
              "3732     1759.4\n",
              "1672    5016.65\n",
              "811     7250.15\n",
              "2526       19.4\n",
              "Name: TotalCharges, dtype: object"
            ]
          },
          "metadata": {
            "tags": []
          },
          "execution_count": 21
        }
      ]
    },
    {
      "cell_type": "code",
      "metadata": {
        "id": "SivuHA-7bMaE"
      },
      "source": [
        "#df['TotalCharges']=pd.to_numeric(df['TotalCharges'])"
      ],
      "execution_count": 430,
      "outputs": []
    },
    {
      "cell_type": "code",
      "metadata": {
        "id": "mHu6dLKezQzt"
      },
      "source": [
        "for i in range(len(df)):\n",
        "  try:\n",
        "    df['TotalCharges'][i]=pd.to_numeric(df['TotalCharges'][i])\n",
        "  except:\n",
        "    df=df.drop(labels=[i],axis=0)"
      ],
      "execution_count": 22,
      "outputs": []
    },
    {
      "cell_type": "code",
      "metadata": {
        "colab": {
          "base_uri": "https://localhost:8080/"
        },
        "id": "MhLIPab1zQ8B",
        "outputId": "7cd76ddb-f094-485b-83a6-1f06a64febb0"
      },
      "source": [
        "df['TotalCharges'].dtype"
      ],
      "execution_count": 23,
      "outputs": [
        {
          "output_type": "execute_result",
          "data": {
            "text/plain": [
              "dtype('O')"
            ]
          },
          "metadata": {
            "tags": []
          },
          "execution_count": 23
        }
      ]
    },
    {
      "cell_type": "code",
      "metadata": {
        "colab": {
          "base_uri": "https://localhost:8080/"
        },
        "id": "Y_QMCerC0kas",
        "outputId": "e58799e2-5dbf-4fe2-f0eb-af4cd3ecce70"
      },
      "source": [
        "df.shape"
      ],
      "execution_count": 24,
      "outputs": [
        {
          "output_type": "execute_result",
          "data": {
            "text/plain": [
              "(7032, 21)"
            ]
          },
          "metadata": {
            "tags": []
          },
          "execution_count": 24
        }
      ]
    },
    {
      "cell_type": "code",
      "metadata": {
        "colab": {
          "base_uri": "https://localhost:8080/"
        },
        "id": "ZOt1VBjLuBgm",
        "outputId": "779f7377-7c22-45ab-98a7-5c0b196b8b6d"
      },
      "source": [
        "df.dtypes"
      ],
      "execution_count": 25,
      "outputs": [
        {
          "output_type": "execute_result",
          "data": {
            "text/plain": [
              "customerID           object\n",
              "gender               object\n",
              "SeniorCitizen         int64\n",
              "Partner              object\n",
              "Dependents           object\n",
              "tenure                int64\n",
              "PhoneService         object\n",
              "MultipleLines        object\n",
              "InternetService      object\n",
              "OnlineSecurity       object\n",
              "OnlineBackup         object\n",
              "DeviceProtection     object\n",
              "TechSupport          object\n",
              "StreamingTV          object\n",
              "StreamingMovies      object\n",
              "Contract             object\n",
              "PaperlessBilling     object\n",
              "PaymentMethod        object\n",
              "MonthlyCharges      float64\n",
              "TotalCharges         object\n",
              "Churn                object\n",
              "dtype: object"
            ]
          },
          "metadata": {
            "tags": []
          },
          "execution_count": 25
        }
      ]
    },
    {
      "cell_type": "code",
      "metadata": {
        "colab": {
          "base_uri": "https://localhost:8080/"
        },
        "id": "XK8DtQznoqhG",
        "outputId": "268355ec-9637-4873-e759-4550a06c40ff"
      },
      "source": [
        "df['TotalCharges'][764:767]"
      ],
      "execution_count": 26,
      "outputs": [
        {
          "output_type": "execute_result",
          "data": {
            "text/plain": [
              "1433     593.85\n",
              "4412    1699.15\n",
              "620       362.6\n",
              "Name: TotalCharges, dtype: object"
            ]
          },
          "metadata": {
            "tags": []
          },
          "execution_count": 26
        }
      ]
    },
    {
      "cell_type": "code",
      "metadata": {
        "colab": {
          "base_uri": "https://localhost:8080/"
        },
        "id": "wvMrtmNt03Ug",
        "outputId": "8acb0d8b-06a7-4229-b4b5-72426e4e9aff"
      },
      "source": [
        "df['TotalCharges'].describe"
      ],
      "execution_count": 27,
      "outputs": [
        {
          "output_type": "execute_result",
          "data": {
            "text/plain": [
              "<bound method NDFrame.describe of 185        24.8\n",
              "2715     996.45\n",
              "3825     1031.7\n",
              "1807      76.35\n",
              "132      3260.1\n",
              "         ...   \n",
              "3772         95\n",
              "5191     2198.3\n",
              "5226     306.05\n",
              "5390    1200.15\n",
              "860       457.3\n",
              "Name: TotalCharges, Length: 7032, dtype: object>"
            ]
          },
          "metadata": {
            "tags": []
          },
          "execution_count": 27
        }
      ]
    },
    {
      "cell_type": "code",
      "metadata": {
        "id": "d7-zcm-x1ASt"
      },
      "source": [
        "df['TotalCharges']=pd.to_numeric(df['TotalCharges'])"
      ],
      "execution_count": 28,
      "outputs": []
    },
    {
      "cell_type": "code",
      "metadata": {
        "colab": {
          "base_uri": "https://localhost:8080/"
        },
        "id": "LIW081381tIb",
        "outputId": "ed8cfe92-9939-4015-8a76-8830272e2a2d"
      },
      "source": [
        "df['TotalCharges'].dtype"
      ],
      "execution_count": 30,
      "outputs": [
        {
          "output_type": "execute_result",
          "data": {
            "text/plain": [
              "dtype('float64')"
            ]
          },
          "metadata": {
            "tags": []
          },
          "execution_count": 30
        }
      ]
    },
    {
      "cell_type": "code",
      "metadata": {
        "colab": {
          "base_uri": "https://localhost:8080/"
        },
        "id": "oZAhr_M511pl",
        "outputId": "1c3b1fd7-5b3d-4c16-b7d1-9e024d546d74"
      },
      "source": [
        "df.dtypes"
      ],
      "execution_count": 31,
      "outputs": [
        {
          "output_type": "execute_result",
          "data": {
            "text/plain": [
              "customerID           object\n",
              "gender               object\n",
              "SeniorCitizen         int64\n",
              "Partner              object\n",
              "Dependents           object\n",
              "tenure                int64\n",
              "PhoneService         object\n",
              "MultipleLines        object\n",
              "InternetService      object\n",
              "OnlineSecurity       object\n",
              "OnlineBackup         object\n",
              "DeviceProtection     object\n",
              "TechSupport          object\n",
              "StreamingTV          object\n",
              "StreamingMovies      object\n",
              "Contract             object\n",
              "PaperlessBilling     object\n",
              "PaymentMethod        object\n",
              "MonthlyCharges      float64\n",
              "TotalCharges        float64\n",
              "Churn                object\n",
              "dtype: object"
            ]
          },
          "metadata": {
            "tags": []
          },
          "execution_count": 31
        }
      ]
    },
    {
      "cell_type": "markdown",
      "metadata": {
        "id": "PIzf1EnK17VH"
      },
      "source": [
        "Converted TotalCharges to float64 type and removed those rows that were of string type and non convertable."
      ]
    },
    {
      "cell_type": "code",
      "metadata": {
        "colab": {
          "base_uri": "https://localhost:8080/",
          "height": 302
        },
        "id": "TAN2XTyn13eq",
        "outputId": "4730258e-308e-4dbf-a383-fab34a22a694"
      },
      "source": [
        "sns.boxplot(df['TotalCharges'])"
      ],
      "execution_count": 32,
      "outputs": [
        {
          "output_type": "execute_result",
          "data": {
            "text/plain": [
              "<matplotlib.axes._subplots.AxesSubplot at 0x7fd2af322ad0>"
            ]
          },
          "metadata": {
            "tags": []
          },
          "execution_count": 32
        },
        {
          "output_type": "display_data",
          "data": {
            "image/png": "[encoded data removed]",
            "text/plain": [
              "<Figure size 432x288 with 1 Axes>"
            ]
          },
          "metadata": {
            "tags": [],
            "needs_background": "light"
          }
        }
      ]
    },
    {
      "cell_type": "code",
      "metadata": {
        "colab": {
          "base_uri": "https://localhost:8080/",
          "height": 302
        },
        "id": "dGpuhIrW2de7",
        "outputId": "06efef5a-90e1-4dbb-f234-9cfeec6a2a97"
      },
      "source": [
        "sns.distplot(df['TotalCharges'])"
      ],
      "execution_count": 34,
      "outputs": [
        {
          "output_type": "execute_result",
          "data": {
            "text/plain": [
              "<matplotlib.axes._subplots.AxesSubplot at 0x7fd2af20bb50>"
            ]
          },
          "metadata": {
            "tags": []
          },
          "execution_count": 34
        },
        {
          "output_type": "display_data",
          "data": {
            "image/png": "[encoded data removed]",
            "text/plain": [
              "<Figure size 432x288 with 1 Axes>"
            ]
          },
          "metadata": {
            "tags": [],
            "needs_background": "light"
          }
        }
      ]
    },
    {
      "cell_type": "markdown",
      "metadata": {
        "id": "lWLnTsiY2s82"
      },
      "source": [
        "Presence of outliers in TotalCharges variable"
      ]
    },
    {
      "cell_type": "code",
      "metadata": {
        "colab": {
          "base_uri": "https://localhost:8080/",
          "height": 302
        },
        "id": "vayrzcWH2rwK",
        "outputId": "d5be4f25-dcbb-4215-a7ea-8f470697337b"
      },
      "source": [
        "x=np.log(df['TotalCharges'])\n",
        "sns.distplot(x)"
      ],
      "execution_count": 35,
      "outputs": [
        {
          "output_type": "execute_result",
          "data": {
            "text/plain": [
              "<matplotlib.axes._subplots.AxesSubplot at 0x7fd2aeef22d0>"
            ]
          },
          "metadata": {
            "tags": []
          },
          "execution_count": 35
        },
        {
          "output_type": "display_data",
          "data": {
            "image/png": "[encoded data removed]",
            "text/plain": [
              "<Figure size 432x288 with 1 Axes>"
            ]
          },
          "metadata": {
            "tags": [],
            "needs_background": "light"
          }
        }
      ]
    },
    {
      "cell_type": "code",
      "metadata": {
        "colab": {
          "base_uri": "https://localhost:8080/"
        },
        "id": "mjhTeVkI2ryt",
        "outputId": "49b90fcb-74af-44d2-eed9-797ef1f4d58c"
      },
      "source": [
        "q1=df['TotalCharges'].quantile(0.25)\n",
        "q3=df['TotalCharges'].quantile(0.75)\n",
        "q3,q1"
      ],
      "execution_count": 36,
      "outputs": [
        {
          "output_type": "execute_result",
          "data": {
            "text/plain": [
              "(3794.7375, 401.45)"
            ]
          },
          "metadata": {
            "tags": []
          },
          "execution_count": 36
        }
      ]
    },
    {
      "cell_type": "code",
      "metadata": {
        "colab": {
          "base_uri": "https://localhost:8080/"
        },
        "id": "WFBv82d92r5O",
        "outputId": "f83a74e6-eb36-4508-d50c-60af131d5073"
      },
      "source": [
        "iqr=q3-q1\n",
        "iqr"
      ],
      "execution_count": 37,
      "outputs": [
        {
          "output_type": "execute_result",
          "data": {
            "text/plain": [
              "3393.2875000000004"
            ]
          },
          "metadata": {
            "tags": []
          },
          "execution_count": 37
        }
      ]
    },
    {
      "cell_type": "code",
      "metadata": {
        "colab": {
          "base_uri": "https://localhost:8080/"
        },
        "id": "VNmof-Ck2r7d",
        "outputId": "a0b41839-d914-4df9-d6d4-e718c4fddb96"
      },
      "source": [
        "whiskerup=q3+1.5*iqr\n",
        "whiskerup"
      ],
      "execution_count": 38,
      "outputs": [
        {
          "output_type": "execute_result",
          "data": {
            "text/plain": [
              "8884.66875"
            ]
          },
          "metadata": {
            "tags": []
          },
          "execution_count": 38
        }
      ]
    },
    {
      "cell_type": "code",
      "metadata": {
        "colab": {
          "base_uri": "https://localhost:8080/"
        },
        "id": "PElQ_EUt59Sb",
        "outputId": "39f222c8-026f-455e-bb33-cc93b654f9c6"
      },
      "source": [
        "df['TotalCharges'].max()"
      ],
      "execution_count": 39,
      "outputs": [
        {
          "output_type": "execute_result",
          "data": {
            "text/plain": [
              "8684.8"
            ]
          },
          "metadata": {
            "tags": []
          },
          "execution_count": 39
        }
      ]
    },
    {
      "cell_type": "code",
      "metadata": {
        "colab": {
          "base_uri": "https://localhost:8080/"
        },
        "id": "VH3tKYFP6DuH",
        "outputId": "e8501736-5804-4da6-d1f1-80c839d2eeb8"
      },
      "source": [
        "cap=df['TotalCharges'].quantile(0.9)\n",
        "cap"
      ],
      "execution_count": 40,
      "outputs": [
        {
          "output_type": "execute_result",
          "data": {
            "text/plain": [
              "5976.640000000001"
            ]
          },
          "metadata": {
            "tags": []
          },
          "execution_count": 40
        }
      ]
    },
    {
      "cell_type": "code",
      "metadata": {
        "colab": {
          "base_uri": "https://localhost:8080/"
        },
        "id": "nT0jQR8Y6Lgr",
        "outputId": "a80cf340-1069-42fa-c310-e77e3e83ef4b"
      },
      "source": [
        "print(df['TotalCharges'].mode(),df['TotalCharges'].median())"
      ],
      "execution_count": 41,
      "outputs": [
        {
          "output_type": "stream",
          "text": [
            "0    20.2\n",
            "dtype: float64 1397.475\n"
          ],
          "name": "stdout"
        }
      ]
    },
    {
      "cell_type": "markdown",
      "metadata": {
        "id": "m_b7bLlxBmJL"
      },
      "source": [
        "Capping the values of outlier at 6000 (decided from graph) because replacing them with mode or median or applying any other outlier management technique would introduce irregularities in the pattern because the Total Charges are supposed to be high for some of the entries because it is an accumuation of charges throughout the tenure. \n",
        "\n",
        "Replacing it with mode or median would mean that the total charges are very low for those entries that might have a high tenure or high monthly charges which would bring inaccuracy to the model."
      ]
    },
    {
      "cell_type": "code",
      "metadata": {
        "id": "s4_X3XQm2r9z"
      },
      "source": [
        "df['TotalCharges'][df['TotalCharges']>cap]=cap"
      ],
      "execution_count": 42,
      "outputs": []
    },
    {
      "cell_type": "code",
      "metadata": {
        "colab": {
          "base_uri": "https://localhost:8080/"
        },
        "id": "HG5v0K0J4xQE",
        "outputId": "77fd8d93-05fa-42d4-ced1-2ecb2d47caf7"
      },
      "source": [
        "df['TotalCharges'].max()"
      ],
      "execution_count": 43,
      "outputs": [
        {
          "output_type": "execute_result",
          "data": {
            "text/plain": [
              "5976.640000000001"
            ]
          },
          "metadata": {
            "tags": []
          },
          "execution_count": 43
        }
      ]
    },
    {
      "cell_type": "code",
      "metadata": {
        "colab": {
          "base_uri": "https://localhost:8080/",
          "height": 302
        },
        "id": "sy7PTH-o5auL",
        "outputId": "c1b29819-b1f0-490d-bd40-6ab1268dc239"
      },
      "source": [
        "sns.boxplot(df['TotalCharges'])\n"
      ],
      "execution_count": 45,
      "outputs": [
        {
          "output_type": "execute_result",
          "data": {
            "text/plain": [
              "<matplotlib.axes._subplots.AxesSubplot at 0x7fd2abdda1d0>"
            ]
          },
          "metadata": {
            "tags": []
          },
          "execution_count": 45
        },
        {
          "output_type": "display_data",
          "data": {
            "image/png": "[encoded data removed]",
            "text/plain": [
              "<Figure size 432x288 with 1 Axes>"
            ]
          },
          "metadata": {
            "tags": [],
            "needs_background": "light"
          }
        }
      ]
    },
    {
      "cell_type": "code",
      "metadata": {
        "colab": {
          "base_uri": "https://localhost:8080/",
          "height": 302
        },
        "id": "Pg7zZ78O5a84",
        "outputId": "34fe7edf-3a3d-4994-f61d-0663bedde4eb"
      },
      "source": [
        "sns.boxplot(df['tenure'])"
      ],
      "execution_count": 46,
      "outputs": [
        {
          "output_type": "execute_result",
          "data": {
            "text/plain": [
              "<matplotlib.axes._subplots.AxesSubplot at 0x7fd2abd9fb10>"
            ]
          },
          "metadata": {
            "tags": []
          },
          "execution_count": 46
        },
        {
          "output_type": "display_data",
          "data": {
            "image/png": "[encoded data removed]",
            "text/plain": [
              "<Figure size 432x288 with 1 Axes>"
            ]
          },
          "metadata": {
            "tags": [],
            "needs_background": "light"
          }
        }
      ]
    },
    {
      "cell_type": "code",
      "metadata": {
        "colab": {
          "base_uri": "https://localhost:8080/",
          "height": 394
        },
        "id": "QWCnEl395bAz",
        "outputId": "56cfbb4c-6f1f-4edb-f847-75c0fb260695"
      },
      "source": [
        "# Numerical Features\n",
        "fig, (ax1, ax2 , ax3) = plt.subplots(ncols=3, figsize=(16, 6))\n",
        "sns.distplot(df['MonthlyCharges'], ax = ax1)\n",
        "sns.distplot(df['TotalCharges'], ax = ax2)\n",
        "sns.distplot(df['tenure'], ax = ax3)\n",
        "plt.show()"
      ],
      "execution_count": 47,
      "outputs": [
        {
          "output_type": "display_data",
          "data": {
            "image/png": "[encoded data removed]",
            "text/plain": [
              "<Figure size 1152x432 with 3 Axes>"
            ]
          },
          "metadata": {
            "tags": [],
            "needs_background": "light"
          }
        }
      ]
    },
    {
      "cell_type": "markdown",
      "metadata": {
        "id": "NceE5UXcE8MR"
      },
      "source": [
        "Normalizing numerical features"
      ]
    },
    {
      "cell_type": "code",
      "metadata": {
        "id": "d9XT4pZDoqjA"
      },
      "source": [
        "df['TotalCharges']/=df['TotalCharges'].max()\n",
        "df['MonthlyCharges']/=df['MonthlyCharges'].max()\n",
        "df['tenure']/=df['tenure'].max()"
      ],
      "execution_count": 48,
      "outputs": []
    },
    {
      "cell_type": "code",
      "metadata": {
        "colab": {
          "base_uri": "https://localhost:8080/",
          "height": 394
        },
        "id": "35clQJtobLU-",
        "outputId": "beffaba7-9882-46b4-f33b-4c131c29b648"
      },
      "source": [
        "# Numerical Features\n",
        "fig, (ax1, ax2 , ax3) = plt.subplots(ncols=3, figsize=(16, 6))\n",
        "sns.distplot(df['MonthlyCharges'], ax = ax1)\n",
        "sns.distplot(df['TotalCharges'], ax = ax2)\n",
        "sns.distplot(df['tenure'], ax = ax3)\n",
        "plt.show()"
      ],
      "execution_count": 49,
      "outputs": [
        {
          "output_type": "display_data",
          "data": {
            "image/png": "[encoded data removed]",
            "text/plain": [
              "<Figure size 1152x432 with 3 Axes>"
            ]
          },
          "metadata": {
            "tags": [],
            "needs_background": "light"
          }
        }
      ]
    },
    {
      "cell_type": "markdown",
      "metadata": {
        "id": "uWdDPgJQFWGQ"
      },
      "source": [
        "As expected, graph doesn't change because normalization doesn't change the relative distance between the points."
      ]
    },
    {
      "cell_type": "code",
      "metadata": {
        "colab": {
          "base_uri": "https://localhost:8080/",
          "height": 309
        },
        "id": "Nik6rI2dje0C",
        "outputId": "91b298cd-7d4a-4976-b23d-2c650c776527"
      },
      "source": [
        "df.head()"
      ],
      "execution_count": 50,
      "outputs": [
        {
          "output_type": "execute_result",
          "data": {
            "text/html": [
              "<div>\n",
              "<style scoped>\n",
              "    .dataframe tbody tr th:only-of-type {\n",
              "        vertical-align: middle;\n",
              "    }\n",
              "\n",
              "    .dataframe tbody tr th {\n",
              "        vertical-align: top;\n",
              "    }\n",
              "\n",
              "    .dataframe thead th {\n",
              "        text-align: right;\n",
              "    }\n",
              "</style>\n",
              "<table border=\"1\" class=\"dataframe\">\n",
              "  <thead>\n",
              "    <tr style=\"text-align: right;\">\n",
              "      <th></th>\n",
              "      <th>customerID</th>\n",
              "      <th>gender</th>\n",
              "      <th>SeniorCitizen</th>\n",
              "      <th>Partner</th>\n",
              "      <th>Dependents</th>\n",
              "      <th>tenure</th>\n",
              "      <th>PhoneService</th>\n",
              "      <th>MultipleLines</th>\n",
              "      <th>InternetService</th>\n",
              "      <th>OnlineSecurity</th>\n",
              "      <th>OnlineBackup</th>\n",
              "      <th>DeviceProtection</th>\n",
              "      <th>TechSupport</th>\n",
              "      <th>StreamingTV</th>\n",
              "      <th>StreamingMovies</th>\n",
              "      <th>Contract</th>\n",
              "      <th>PaperlessBilling</th>\n",
              "      <th>PaymentMethod</th>\n",
              "      <th>MonthlyCharges</th>\n",
              "      <th>TotalCharges</th>\n",
              "      <th>Churn</th>\n",
              "    </tr>\n",
              "  </thead>\n",
              "  <tbody>\n",
              "    <tr>\n",
              "      <th>185</th>\n",
              "      <td>1024-GUALD</td>\n",
              "      <td>Female</td>\n",
              "      <td>0</td>\n",
              "      <td>Yes</td>\n",
              "      <td>No</td>\n",
              "      <td>0.013889</td>\n",
              "      <td>No</td>\n",
              "      <td>No phone service</td>\n",
              "      <td>DSL</td>\n",
              "      <td>No</td>\n",
              "      <td>No</td>\n",
              "      <td>No</td>\n",
              "      <td>No</td>\n",
              "      <td>No</td>\n",
              "      <td>No</td>\n",
              "      <td>Month-to-month</td>\n",
              "      <td>Yes</td>\n",
              "      <td>Electronic check</td>\n",
              "      <td>0.208842</td>\n",
              "      <td>0.004149</td>\n",
              "      <td>Yes</td>\n",
              "    </tr>\n",
              "    <tr>\n",
              "      <th>2715</th>\n",
              "      <td>0484-JPBRU</td>\n",
              "      <td>Male</td>\n",
              "      <td>0</td>\n",
              "      <td>No</td>\n",
              "      <td>No</td>\n",
              "      <td>0.569444</td>\n",
              "      <td>Yes</td>\n",
              "      <td>Yes</td>\n",
              "      <td>No</td>\n",
              "      <td>No internet service</td>\n",
              "      <td>No internet service</td>\n",
              "      <td>No internet service</td>\n",
              "      <td>No internet service</td>\n",
              "      <td>No internet service</td>\n",
              "      <td>No internet service</td>\n",
              "      <td>Month-to-month</td>\n",
              "      <td>Yes</td>\n",
              "      <td>Bank transfer (automatic)</td>\n",
              "      <td>0.212632</td>\n",
              "      <td>0.166724</td>\n",
              "      <td>No</td>\n",
              "    </tr>\n",
              "    <tr>\n",
              "      <th>3825</th>\n",
              "      <td>3620-EHIMZ</td>\n",
              "      <td>Female</td>\n",
              "      <td>0</td>\n",
              "      <td>Yes</td>\n",
              "      <td>Yes</td>\n",
              "      <td>0.722222</td>\n",
              "      <td>Yes</td>\n",
              "      <td>No</td>\n",
              "      <td>No</td>\n",
              "      <td>No internet service</td>\n",
              "      <td>No internet service</td>\n",
              "      <td>No internet service</td>\n",
              "      <td>No internet service</td>\n",
              "      <td>No internet service</td>\n",
              "      <td>No internet service</td>\n",
              "      <td>Two year</td>\n",
              "      <td>No</td>\n",
              "      <td>Mailed check</td>\n",
              "      <td>0.162947</td>\n",
              "      <td>0.172622</td>\n",
              "      <td>No</td>\n",
              "    </tr>\n",
              "    <tr>\n",
              "      <th>1807</th>\n",
              "      <td>6910-HADCM</td>\n",
              "      <td>Female</td>\n",
              "      <td>0</td>\n",
              "      <td>No</td>\n",
              "      <td>No</td>\n",
              "      <td>0.013889</td>\n",
              "      <td>Yes</td>\n",
              "      <td>No</td>\n",
              "      <td>Fiber optic</td>\n",
              "      <td>No</td>\n",
              "      <td>No</td>\n",
              "      <td>Yes</td>\n",
              "      <td>No</td>\n",
              "      <td>No</td>\n",
              "      <td>No</td>\n",
              "      <td>Month-to-month</td>\n",
              "      <td>No</td>\n",
              "      <td>Electronic check</td>\n",
              "      <td>0.642947</td>\n",
              "      <td>0.012775</td>\n",
              "      <td>Yes</td>\n",
              "    </tr>\n",
              "    <tr>\n",
              "      <th>132</th>\n",
              "      <td>8587-XYZSF</td>\n",
              "      <td>Male</td>\n",
              "      <td>0</td>\n",
              "      <td>No</td>\n",
              "      <td>No</td>\n",
              "      <td>0.930556</td>\n",
              "      <td>Yes</td>\n",
              "      <td>No</td>\n",
              "      <td>DSL</td>\n",
              "      <td>No</td>\n",
              "      <td>No</td>\n",
              "      <td>No</td>\n",
              "      <td>Yes</td>\n",
              "      <td>No</td>\n",
              "      <td>No</td>\n",
              "      <td>Two year</td>\n",
              "      <td>No</td>\n",
              "      <td>Bank transfer (automatic)</td>\n",
              "      <td>0.425684</td>\n",
              "      <td>0.545474</td>\n",
              "      <td>No</td>\n",
              "    </tr>\n",
              "  </tbody>\n",
              "</table>\n",
              "</div>"
            ],
            "text/plain": [
              "      customerID  gender  SeniorCitizen  ... MonthlyCharges TotalCharges  Churn\n",
              "185   1024-GUALD  Female              0  ...       0.208842     0.004149    Yes\n",
              "2715  0484-JPBRU    Male              0  ...       0.212632     0.166724     No\n",
              "3825  3620-EHIMZ  Female              0  ...       0.162947     0.172622     No\n",
              "1807  6910-HADCM  Female              0  ...       0.642947     0.012775    Yes\n",
              "132   8587-XYZSF    Male              0  ...       0.425684     0.545474     No\n",
              "\n",
              "[5 rows x 21 columns]"
            ]
          },
          "metadata": {
            "tags": []
          },
          "execution_count": 50
        }
      ]
    },
    {
      "cell_type": "code",
      "metadata": {
        "id": "oWADBeJNOCuW"
      },
      "source": [
        "df['Churn']=df['Churn'].map({'Yes':1,'No':0})"
      ],
      "execution_count": 51,
      "outputs": []
    },
    {
      "cell_type": "code",
      "metadata": {
        "colab": {
          "base_uri": "https://localhost:8080/",
          "height": 214
        },
        "id": "QzIEruI8WGdh",
        "outputId": "9b5eecac-e20b-4dca-980d-c640701567e3"
      },
      "source": [
        "sns.pairplot(df,vars=['MonthlyCharges'],hue ='Churn',plot_kws={'alpha':0.1})"
      ],
      "execution_count": 52,
      "outputs": [
        {
          "output_type": "execute_result",
          "data": {
            "text/plain": [
              "<seaborn.axisgrid.PairGrid at 0x7fd2af479650>"
            ]
          },
          "metadata": {
            "tags": []
          },
          "execution_count": 52
        },
        {
          "output_type": "display_data",
          "data": {
            "image/png": "[encoded data removed]",
            "text/plain": [
              "<Figure size 224.8x180 with 2 Axes>"
            ]
          },
          "metadata": {
            "tags": [],
            "needs_background": "light"
          }
        }
      ]
    },
    {
      "cell_type": "code",
      "metadata": {
        "id": "w_UEgrdC2K2U",
        "colab": {
          "base_uri": "https://localhost:8080/",
          "height": 214
        },
        "outputId": "79afbd7a-88b2-4946-fd68-ef37c32926ab"
      },
      "source": [
        "sns.pairplot(df,vars=['TotalCharges'],hue ='Churn',plot_kws={'alpha':0.1})"
      ],
      "execution_count": 53,
      "outputs": [
        {
          "output_type": "execute_result",
          "data": {
            "text/plain": [
              "<seaborn.axisgrid.PairGrid at 0x7fd2abaf8150>"
            ]
          },
          "metadata": {
            "tags": []
          },
          "execution_count": 53
        },
        {
          "output_type": "display_data",
          "data": {
            "image/png": "[encoded data removed]",
            "text/plain": [
              "<Figure size 224.8x180 with 2 Axes>"
            ]
          },
          "metadata": {
            "tags": [],
            "needs_background": "light"
          }
        }
      ]
    },
    {
      "cell_type": "code",
      "metadata": {
        "id": "aSy6yqj22K2U"
      },
      "source": [
        "def kdeplot(feature):\n",
        "    plt.figure(figsize=(10,5))\n",
        "    plt.title(\"KDE Plot for {}\".format(feature))\n",
        "    ax0 = sns.kdeplot(df[df['Churn'] == 0][feature], color= 'dodgerblue', label= 'Churn - 0')\n",
        "    ax1 = sns.kdeplot(df[df['Churn'] == 1][feature], color= 'orange', label= 'Churn - 1')"
      ],
      "execution_count": 54,
      "outputs": []
    },
    {
      "cell_type": "code",
      "metadata": {
        "colab": {
          "base_uri": "https://localhost:8080/",
          "height": 355
        },
        "id": "8kdwUgynjqvD",
        "outputId": "7eed0db5-b039-474d-f59b-d78e55cad847"
      },
      "source": [
        "kdeplot('TotalCharges')"
      ],
      "execution_count": 55,
      "outputs": [
        {
          "output_type": "display_data",
          "data": {
            "image/png": "[encoded data removed]",
            "text/plain": [
              "<Figure size 720x360 with 1 Axes>"
            ]
          },
          "metadata": {
            "tags": [],
            "needs_background": "light"
          }
        }
      ]
    },
    {
      "cell_type": "code",
      "metadata": {
        "id": "Ss1mf-o92K2V",
        "colab": {
          "base_uri": "https://localhost:8080/",
          "height": 355
        },
        "outputId": "cb7ac726-59c6-4a8a-b7b4-a0a2f16b4d23"
      },
      "source": [
        "kdeplot('MonthlyCharges')"
      ],
      "execution_count": 56,
      "outputs": [
        {
          "output_type": "display_data",
          "data": {
            "image/png": "[encoded data removed]",
            "text/plain": [
              "<Figure size 720x360 with 1 Axes>"
            ]
          },
          "metadata": {
            "tags": [],
            "needs_background": "light"
          }
        }
      ]
    },
    {
      "cell_type": "code",
      "metadata": {
        "id": "368lTVdG2K2V",
        "colab": {
          "base_uri": "https://localhost:8080/",
          "height": 355
        },
        "outputId": "d25908e9-6255-4dec-98d8-e03d154c8d4d"
      },
      "source": [
        "kdeplot('tenure')"
      ],
      "execution_count": 57,
      "outputs": [
        {
          "output_type": "display_data",
          "data": {
            "image/png": "[encoded data removed]",
            "text/plain": [
              "<Figure size 720x360 with 1 Axes>"
            ]
          },
          "metadata": {
            "tags": [],
            "needs_background": "light"
          }
        }
      ]
    },
    {
      "cell_type": "code",
      "metadata": {
        "id": "-k4ke1f32K2V",
        "colab": {
          "base_uri": "https://localhost:8080/"
        },
        "outputId": "e53fc9cc-e651-4c7b-ce3f-e7b8332e63e0"
      },
      "source": [
        "df.columns"
      ],
      "execution_count": 58,
      "outputs": [
        {
          "output_type": "execute_result",
          "data": {
            "text/plain": [
              "Index(['customerID', 'gender', 'SeniorCitizen', 'Partner', 'Dependents',\n",
              "       'tenure', 'PhoneService', 'MultipleLines', 'InternetService',\n",
              "       'OnlineSecurity', 'OnlineBackup', 'DeviceProtection', 'TechSupport',\n",
              "       'StreamingTV', 'StreamingMovies', 'Contract', 'PaperlessBilling',\n",
              "       'PaymentMethod', 'MonthlyCharges', 'TotalCharges', 'Churn'],\n",
              "      dtype='object')"
            ]
          },
          "metadata": {
            "tags": []
          },
          "execution_count": 58
        }
      ]
    },
    {
      "cell_type": "code",
      "metadata": {
        "id": "IYE9Jvtm2K2V"
      },
      "source": [
        "cat_cols=['gender', 'SeniorCitizen', 'Partner', 'Dependents', 'PhoneService', 'MultipleLines', 'InternetService',\n",
        "       'OnlineSecurity', 'OnlineBackup', 'DeviceProtection', 'TechSupport',\n",
        "       'StreamingTV', 'StreamingMovies', 'Contract', 'PaperlessBilling',\n",
        "       'PaymentMethod','Churn']"
      ],
      "execution_count": 59,
      "outputs": []
    },
    {
      "cell_type": "markdown",
      "metadata": {
        "id": "WFXEvWyXj04t"
      },
      "source": [
        "### Univariate Analysis"
      ]
    },
    {
      "cell_type": "code",
      "metadata": {
        "id": "JXNjp6Yt2K2V"
      },
      "source": [
        "def unigraph(feature):\n",
        "  color = sns.color_palette()\n",
        "  int_level = df[feature].value_counts()\n",
        "  plt.figure(figsize=(8,4))\n",
        "  sns.barplot(int_level.index, int_level.values, alpha=0.8, color=color[1])\n",
        "  plt.ylabel('Number of Occurrences', fontsize=12)\n",
        "  plt.xlabel(feature, fontsize=12)\n",
        "  plt.show()"
      ],
      "execution_count": 61,
      "outputs": []
    },
    {
      "cell_type": "code",
      "metadata": {
        "colab": {
          "base_uri": "https://localhost:8080/",
          "height": 285
        },
        "id": "gbr5DCcekcMa",
        "outputId": "5553c9ed-23ea-452c-fdf8-62cc2ceed50b"
      },
      "source": [
        "unigraph('SeniorCitizen')"
      ],
      "execution_count": 62,
      "outputs": [
        {
          "output_type": "display_data",
          "data": {
            "image/png": "[encoded data removed]",
            "text/plain": [
              "<Figure size 576x288 with 1 Axes>"
            ]
          },
          "metadata": {
            "tags": [],
            "needs_background": "light"
          }
        }
      ]
    },
    {
      "cell_type": "markdown",
      "metadata": {
        "id": "FKsukaTyPVEZ"
      },
      "source": [
        "Most data belongs to people who are not senior citizens"
      ]
    },
    {
      "cell_type": "code",
      "metadata": {
        "id": "e8M8sLgv2K2W",
        "colab": {
          "base_uri": "https://localhost:8080/",
          "height": 285
        },
        "outputId": "ecf84f4d-c53d-4852-caea-3bda145a21a5"
      },
      "source": [
        "unigraph('Partner')"
      ],
      "execution_count": 63,
      "outputs": [
        {
          "output_type": "display_data",
          "data": {
            "image/png": "[encoded data removed]",
            "text/plain": [
              "<Figure size 576x288 with 1 Axes>"
            ]
          },
          "metadata": {
            "tags": [],
            "needs_background": "light"
          }
        }
      ]
    },
    {
      "cell_type": "markdown",
      "metadata": {
        "id": "o-3kSSg0PeGS"
      },
      "source": [
        "There is an even distribution of married and single people in the data."
      ]
    },
    {
      "cell_type": "code",
      "metadata": {
        "id": "b68-jO9i2K2W",
        "colab": {
          "base_uri": "https://localhost:8080/",
          "height": 285
        },
        "outputId": "9de53225-1f4d-4a28-92f5-7e8f94004c03"
      },
      "source": [
        "unigraph('Dependents')"
      ],
      "execution_count": 65,
      "outputs": [
        {
          "output_type": "display_data",
          "data": {
            "image/png": "[encoded data removed]",
            "text/plain": [
              "<Figure size 576x288 with 1 Axes>"
            ]
          },
          "metadata": {
            "tags": [],
            "needs_background": "light"
          }
        }
      ]
    },
    {
      "cell_type": "markdown",
      "metadata": {
        "id": "vGFRPFCGPqMQ"
      },
      "source": [
        "Most people in the data don't have people who are dependent on them."
      ]
    },
    {
      "cell_type": "code",
      "metadata": {
        "id": "w1op8TAB2K2W",
        "colab": {
          "base_uri": "https://localhost:8080/",
          "height": 285
        },
        "outputId": "22f32b21-d1fd-4e28-a2cd-36e4e9b03ee5"
      },
      "source": [
        "unigraph('PhoneService')"
      ],
      "execution_count": 66,
      "outputs": [
        {
          "output_type": "display_data",
          "data": {
            "image/png": "[encoded data removed]",
            "text/plain": [
              "<Figure size 576x288 with 1 Axes>"
            ]
          },
          "metadata": {
            "tags": [],
            "needs_background": "light"
          }
        }
      ]
    },
    {
      "cell_type": "markdown",
      "metadata": {
        "id": "nClY0OwOQWkm"
      },
      "source": [
        "Most people have a phone service"
      ]
    },
    {
      "cell_type": "code",
      "metadata": {
        "id": "vUNC0mGb2K2W",
        "colab": {
          "base_uri": "https://localhost:8080/",
          "height": 286
        },
        "outputId": "bb0765ec-2153-4dff-8897-c206b2317cda"
      },
      "source": [
        "unigraph('MultipleLines')"
      ],
      "execution_count": 67,
      "outputs": [
        {
          "output_type": "display_data",
          "data": {
            "image/png": "[encoded data removed]",
            "text/plain": [
              "<Figure size 576x288 with 1 Axes>"
            ]
          },
          "metadata": {
            "tags": [],
            "needs_background": "light"
          }
        }
      ]
    },
    {
      "cell_type": "markdown",
      "metadata": {
        "id": "baCaVhRVQcsE"
      },
      "source": [
        "Majority of the people either don't have multiple lines, or don't have a phone service altogether.\n",
        "\n",
        "This variable renders the previous variable that is 'PhoneService' useless (redundant). So, 'PhoneService' will be dropped later. (Collinearity will be checked later)."
      ]
    },
    {
      "cell_type": "code",
      "metadata": {
        "colab": {
          "base_uri": "https://localhost:8080/",
          "height": 285
        },
        "id": "5tUtkRoyRjCR",
        "outputId": "e0a7f211-a39a-4377-8b27-d80f80f6a753"
      },
      "source": [
        "unigraph('InternetService')"
      ],
      "execution_count": 68,
      "outputs": [
        {
          "output_type": "display_data",
          "data": {
            "image/png": "[encoded data removed]",
            "text/plain": [
              "<Figure size 576x288 with 1 Axes>"
            ]
          },
          "metadata": {
            "tags": [],
            "needs_background": "light"
          }
        }
      ]
    },
    {
      "cell_type": "code",
      "metadata": {
        "colab": {
          "base_uri": "https://localhost:8080/",
          "height": 285
        },
        "id": "cRjEbUWZRjEX",
        "outputId": "0f414bee-4396-455d-ddc2-0fefde8a2048"
      },
      "source": [
        "unigraph('OnlineSecurity')"
      ],
      "execution_count": 69,
      "outputs": [
        {
          "output_type": "display_data",
          "data": {
            "image/png": "[encoded data removed]",
            "text/plain": [
              "<Figure size 576x288 with 1 Axes>"
            ]
          },
          "metadata": {
            "tags": [],
            "needs_background": "light"
          }
        }
      ]
    },
    {
      "cell_type": "code",
      "metadata": {
        "id": "Twy4IiZORjG1"
      },
      "source": [
        "from statsmodels.stats.outliers_influence import variance_inflation_factor\n",
        "\n",
        "def calc_vif(X):\n",
        "    vif = pd.DataFrame()\n",
        "    vif[\"variables\"] = X.columns\n",
        "    vif[\"VIF\"] = [variance_inflation_factor(X.values, i) for i in range(X.shape[1])]\n",
        "\n",
        "    return(vif)\n"
      ],
      "execution_count": 70,
      "outputs": []
    },
    {
      "cell_type": "code",
      "metadata": {
        "colab": {
          "base_uri": "https://localhost:8080/",
          "height": 466
        },
        "id": "sdPdIofVRjNe",
        "outputId": "fd7b4153-6441-4159-bbad-6c0450e10571"
      },
      "source": [
        "d1=pd.read_csv('Churn.csv',encoding='utf-8')\n",
        "plt.figure(figsize=(12, 6))\n",
        "hm=d1.drop(['customerID'],\n",
        "        axis=1, inplace=False)\n",
        "corr = hm.apply(lambda x: pd.factorize(x)[0]).corr()\n",
        "ax = sns.heatmap(corr, xticklabels=corr.columns, yticklabels=corr.columns, \n",
        "                 linewidths=.2, cmap=\"YlGnBu\")"
      ],
      "execution_count": 71,
      "outputs": [
        {
          "output_type": "display_data",
          "data": {
            "image/png": "[encoded data removed]",
            "text/plain": [
              "<Figure size 864x432 with 2 Axes>"
            ]
          },
          "metadata": {
            "tags": [],
            "needs_background": "light"
          }
        }
      ]
    },
    {
      "cell_type": "markdown",
      "metadata": {
        "id": "WIBHvTUaWRET"
      },
      "source": [
        "Strong multicollinearity present in these variables :\n",
        "'OnlineSecurity','InternetService','OnlineBackup','DeviceProtection','TechSupport','StreamingTV','StreamingMovies'\n",
        "\n",
        "Also, these variables have almost no contribution towards the Churn variable, so these wil be dropped. (Keeping just one of these variables - InternetService, to capture the patterns from all these variables)"
      ]
    },
    {
      "cell_type": "code",
      "metadata": {
        "id": "T7pXgLkSRjRv"
      },
      "source": [
        "df.drop(['customerID','OnlineSecurity','OnlineBackup','DeviceProtection','TechSupport','StreamingTV','StreamingMovies','PhoneService'],axis=1,inplace=True)"
      ],
      "execution_count": 72,
      "outputs": []
    },
    {
      "cell_type": "code",
      "metadata": {
        "colab": {
          "base_uri": "https://localhost:8080/",
          "height": 204
        },
        "id": "AACnFBfTX468",
        "outputId": "5e73569e-08f1-4217-b12b-91d5e38683d5"
      },
      "source": [
        "df.head()"
      ],
      "execution_count": 73,
      "outputs": [
        {
          "output_type": "execute_result",
          "data": {
            "text/html": [
              "<div>\n",
              "<style scoped>\n",
              "    .dataframe tbody tr th:only-of-type {\n",
              "        vertical-align: middle;\n",
              "    }\n",
              "\n",
              "    .dataframe tbody tr th {\n",
              "        vertical-align: top;\n",
              "    }\n",
              "\n",
              "    .dataframe thead th {\n",
              "        text-align: right;\n",
              "    }\n",
              "</style>\n",
              "<table border=\"1\" class=\"dataframe\">\n",
              "  <thead>\n",
              "    <tr style=\"text-align: right;\">\n",
              "      <th></th>\n",
              "      <th>gender</th>\n",
              "      <th>SeniorCitizen</th>\n",
              "      <th>Partner</th>\n",
              "      <th>Dependents</th>\n",
              "      <th>tenure</th>\n",
              "      <th>MultipleLines</th>\n",
              "      <th>InternetService</th>\n",
              "      <th>Contract</th>\n",
              "      <th>PaperlessBilling</th>\n",
              "      <th>PaymentMethod</th>\n",
              "      <th>MonthlyCharges</th>\n",
              "      <th>TotalCharges</th>\n",
              "      <th>Churn</th>\n",
              "    </tr>\n",
              "  </thead>\n",
              "  <tbody>\n",
              "    <tr>\n",
              "      <th>185</th>\n",
              "      <td>Female</td>\n",
              "      <td>0</td>\n",
              "      <td>Yes</td>\n",
              "      <td>No</td>\n",
              "      <td>0.013889</td>\n",
              "      <td>No phone service</td>\n",
              "      <td>DSL</td>\n",
              "      <td>Month-to-month</td>\n",
              "      <td>Yes</td>\n",
              "      <td>Electronic check</td>\n",
              "      <td>0.208842</td>\n",
              "      <td>0.004149</td>\n",
              "      <td>1</td>\n",
              "    </tr>\n",
              "    <tr>\n",
              "      <th>2715</th>\n",
              "      <td>Male</td>\n",
              "      <td>0</td>\n",
              "      <td>No</td>\n",
              "      <td>No</td>\n",
              "      <td>0.569444</td>\n",
              "      <td>Yes</td>\n",
              "      <td>No</td>\n",
              "      <td>Month-to-month</td>\n",
              "      <td>Yes</td>\n",
              "      <td>Bank transfer (automatic)</td>\n",
              "      <td>0.212632</td>\n",
              "      <td>0.166724</td>\n",
              "      <td>0</td>\n",
              "    </tr>\n",
              "    <tr>\n",
              "      <th>3825</th>\n",
              "      <td>Female</td>\n",
              "      <td>0</td>\n",
              "      <td>Yes</td>\n",
              "      <td>Yes</td>\n",
              "      <td>0.722222</td>\n",
              "      <td>No</td>\n",
              "      <td>No</td>\n",
              "      <td>Two year</td>\n",
              "      <td>No</td>\n",
              "      <td>Mailed check</td>\n",
              "      <td>0.162947</td>\n",
              "      <td>0.172622</td>\n",
              "      <td>0</td>\n",
              "    </tr>\n",
              "    <tr>\n",
              "      <th>1807</th>\n",
              "      <td>Female</td>\n",
              "      <td>0</td>\n",
              "      <td>No</td>\n",
              "      <td>No</td>\n",
              "      <td>0.013889</td>\n",
              "      <td>No</td>\n",
              "      <td>Fiber optic</td>\n",
              "      <td>Month-to-month</td>\n",
              "      <td>No</td>\n",
              "      <td>Electronic check</td>\n",
              "      <td>0.642947</td>\n",
              "      <td>0.012775</td>\n",
              "      <td>1</td>\n",
              "    </tr>\n",
              "    <tr>\n",
              "      <th>132</th>\n",
              "      <td>Male</td>\n",
              "      <td>0</td>\n",
              "      <td>No</td>\n",
              "      <td>No</td>\n",
              "      <td>0.930556</td>\n",
              "      <td>No</td>\n",
              "      <td>DSL</td>\n",
              "      <td>Two year</td>\n",
              "      <td>No</td>\n",
              "      <td>Bank transfer (automatic)</td>\n",
              "      <td>0.425684</td>\n",
              "      <td>0.545474</td>\n",
              "      <td>0</td>\n",
              "    </tr>\n",
              "  </tbody>\n",
              "</table>\n",
              "</div>"
            ],
            "text/plain": [
              "      gender  SeniorCitizen Partner  ... MonthlyCharges  TotalCharges Churn\n",
              "185   Female              0     Yes  ...       0.208842      0.004149     1\n",
              "2715    Male              0      No  ...       0.212632      0.166724     0\n",
              "3825  Female              0     Yes  ...       0.162947      0.172622     0\n",
              "1807  Female              0      No  ...       0.642947      0.012775     1\n",
              "132     Male              0      No  ...       0.425684      0.545474     0\n",
              "\n",
              "[5 rows x 13 columns]"
            ]
          },
          "metadata": {
            "tags": []
          },
          "execution_count": 73
        }
      ]
    },
    {
      "cell_type": "code",
      "metadata": {
        "colab": {
          "base_uri": "https://localhost:8080/",
          "height": 285
        },
        "id": "VRfb6mY8X49R",
        "outputId": "79308dbd-2bd9-4452-c366-c61b14a7dbf1"
      },
      "source": [
        "unigraph('Contract')"
      ],
      "execution_count": 74,
      "outputs": [
        {
          "output_type": "display_data",
          "data": {
            "image/png": "[encoded data removed]",
            "text/plain": [
              "<Figure size 576x288 with 1 Axes>"
            ]
          },
          "metadata": {
            "tags": [],
            "needs_background": "light"
          }
        }
      ]
    },
    {
      "cell_type": "markdown",
      "metadata": {
        "id": "Nxw5r_mjYe93"
      },
      "source": [
        "Majority of the people work under a month-to-month contract"
      ]
    },
    {
      "cell_type": "code",
      "metadata": {
        "colab": {
          "base_uri": "https://localhost:8080/",
          "height": 285
        },
        "id": "-ymAUOnkX4_v",
        "outputId": "192e6b92-80f0-41b4-dff4-045a60f38e11"
      },
      "source": [
        "unigraph('PaperlessBilling')"
      ],
      "execution_count": 78,
      "outputs": [
        {
          "output_type": "display_data",
          "data": {
            "image/png": "[encoded data removed]",
            "text/plain": [
              "<Figure size 576x288 with 1 Axes>"
            ]
          },
          "metadata": {
            "tags": [],
            "needs_background": "light"
          }
        }
      ]
    },
    {
      "cell_type": "code",
      "metadata": {
        "colab": {
          "base_uri": "https://localhost:8080/",
          "height": 285
        },
        "id": "8K8sQ8fiX5CI",
        "outputId": "b26263f7-10d5-4e79-8661-820043a831b0"
      },
      "source": [
        "unigraph('PaymentMethod')"
      ],
      "execution_count": 79,
      "outputs": [
        {
          "output_type": "display_data",
          "data": {
            "image/png": "[encoded data removed]",
            "text/plain": [
              "<Figure size 576x288 with 1 Axes>"
            ]
          },
          "metadata": {
            "tags": [],
            "needs_background": "light"
          }
        }
      ]
    },
    {
      "cell_type": "code",
      "metadata": {
        "id": "v9L6iDdQX5D1"
      },
      "source": [
        "def barplot_percentages(feature):\n",
        "    #fig, (ax1, ax2) = plt.subplots(ncols=2, figsize=(16, 6))\n",
        "    ax1 = df.groupby(feature)['Churn'].value_counts(normalize=True).unstack()\n",
        "    ax1.plot(kind='bar', stacked='True')\n",
        "    int_level = df[feature].value_counts()"
      ],
      "execution_count": 80,
      "outputs": []
    },
    {
      "cell_type": "code",
      "metadata": {
        "colab": {
          "base_uri": "https://localhost:8080/",
          "height": 315
        },
        "id": "T7CNHOYrZeMM",
        "outputId": "d96dd571-465b-48da-e7d5-71ebc0568c51"
      },
      "source": [
        "barplot_percentages(\"gender\")"
      ],
      "execution_count": 81,
      "outputs": [
        {
          "output_type": "display_data",
          "data": {
            "image/png": "[encoded data removed]",
            "text/plain": [
              "<Figure size 432x288 with 1 Axes>"
            ]
          },
          "metadata": {
            "tags": [],
            "needs_background": "light"
          }
        }
      ]
    },
    {
      "cell_type": "markdown",
      "metadata": {
        "id": "sVo-YPbcZ45G"
      },
      "source": [
        "Equal percentage of men and women have been churning."
      ]
    },
    {
      "cell_type": "code",
      "metadata": {
        "colab": {
          "base_uri": "https://localhost:8080/",
          "height": 282
        },
        "id": "5PE7OYTQZeOf",
        "outputId": "eda73bab-4fcd-4f4b-aa0d-42c3eb0c00b8"
      },
      "source": [
        "barplot_percentages(\"SeniorCitizen\")"
      ],
      "execution_count": 82,
      "outputs": [
        {
          "output_type": "display_data",
          "data": {
            "image/png": "[encoded data removed]",
            "text/plain": [
              "<Figure size 432x288 with 1 Axes>"
            ]
          },
          "metadata": {
            "tags": [],
            "needs_background": "light"
          }
        }
      ]
    },
    {
      "cell_type": "markdown",
      "metadata": {
        "id": "EcIu0r0ZaDeL"
      },
      "source": [
        "Higher % of senior citizens have churned."
      ]
    },
    {
      "cell_type": "code",
      "metadata": {
        "colab": {
          "base_uri": "https://localhost:8080/",
          "height": 293
        },
        "id": "RV0zsCbSZeQy",
        "outputId": "02c6244f-f837-4f71-e7c3-0f83c0491dfa"
      },
      "source": [
        "barplot_percentages(\"Partner\")"
      ],
      "execution_count": 83,
      "outputs": [
        {
          "output_type": "display_data",
          "data": {
            "image/png": "[encoded data removed]",
            "text/plain": [
              "<Figure size 432x288 with 1 Axes>"
            ]
          },
          "metadata": {
            "tags": [],
            "needs_background": "light"
          }
        }
      ]
    },
    {
      "cell_type": "markdown",
      "metadata": {
        "id": "d47nZZPZaI9d"
      },
      "source": [
        "Those who are single have a higher rate of churning than married people"
      ]
    },
    {
      "cell_type": "code",
      "metadata": {
        "colab": {
          "base_uri": "https://localhost:8080/",
          "height": 293
        },
        "id": "WivLy6FRZeTX",
        "outputId": "6d7cccc1-6a58-4da3-c9f8-e639ba2f7d95"
      },
      "source": [
        "barplot_percentages(\"Dependents\")"
      ],
      "execution_count": 84,
      "outputs": [
        {
          "output_type": "display_data",
          "data": {
            "image/png": "[encoded data removed]",
            "text/plain": [
              "<Figure size 432x288 with 1 Axes>"
            ]
          },
          "metadata": {
            "tags": [],
            "needs_background": "light"
          }
        }
      ]
    },
    {
      "cell_type": "markdown",
      "metadata": {
        "id": "DKfUjiObaSqE"
      },
      "source": [
        "In line with Partners, those who have less dependent on them have a higher rate of churning"
      ]
    },
    {
      "cell_type": "code",
      "metadata": {
        "colab": {
          "base_uri": "https://localhost:8080/",
          "height": 371
        },
        "id": "1FhP4jSCZeWP",
        "outputId": "61e61c7d-33b2-46a6-f5e2-72fbff2ec38d"
      },
      "source": [
        "barplot_percentages(\"MultipleLines\")"
      ],
      "execution_count": 85,
      "outputs": [
        {
          "output_type": "display_data",
          "data": {
            "image/png": "[encoded data removed]",
            "text/plain": [
              "<Figure size 432x288 with 1 Axes>"
            ]
          },
          "metadata": {
            "tags": [],
            "needs_background": "light"
          }
        }
      ]
    },
    {
      "cell_type": "code",
      "metadata": {
        "colab": {
          "base_uri": "https://localhost:8080/",
          "height": 333
        },
        "id": "L0Bw3EZjarTC",
        "outputId": "1e395402-ccdf-4b4f-c45f-eb1afb57d1fb"
      },
      "source": [
        "barplot_percentages(\"InternetService\")"
      ],
      "execution_count": 86,
      "outputs": [
        {
          "output_type": "display_data",
          "data": {
            "image/png": "[encoded data removed]",
            "text/plain": [
              "<Figure size 432x288 with 1 Axes>"
            ]
          },
          "metadata": {
            "tags": [],
            "needs_background": "light"
          }
        }
      ]
    },
    {
      "cell_type": "markdown",
      "metadata": {
        "id": "9UHI4DzBaubM"
      },
      "source": [
        "Fiber Optic owners have a higher rate of churning"
      ]
    },
    {
      "cell_type": "code",
      "metadata": {
        "colab": {
          "base_uri": "https://localhost:8080/",
          "height": 365
        },
        "id": "Fyz-6kwVZea8",
        "outputId": "9517d44c-f5b2-4ffe-de11-fefc72dd06e8"
      },
      "source": [
        "barplot_percentages(\"Contract\")"
      ],
      "execution_count": 87,
      "outputs": [
        {
          "output_type": "display_data",
          "data": {
            "image/png": "[encoded data removed]",
            "text/plain": [
              "<Figure size 432x288 with 1 Axes>"
            ]
          },
          "metadata": {
            "tags": [],
            "needs_background": "light"
          }
        }
      ]
    },
    {
      "cell_type": "markdown",
      "metadata": {
        "id": "ZFVa8fbBa4N8"
      },
      "source": [
        "Month-to-month contract holders have an astonishingly high rate of churning as compared to other contract holders."
      ]
    },
    {
      "cell_type": "code",
      "metadata": {
        "colab": {
          "base_uri": "https://localhost:8080/",
          "height": 418
        },
        "id": "QQ799REdbAmJ",
        "outputId": "712081ae-c58d-4785-862f-2c576cffd4a2"
      },
      "source": [
        "barplot_percentages(\"PaymentMethod\")"
      ],
      "execution_count": 88,
      "outputs": [
        {
          "output_type": "display_data",
          "data": {
            "image/png": "[encoded data removed]",
            "text/plain": [
              "<Figure size 432x288 with 1 Axes>"
            ]
          },
          "metadata": {
            "tags": [],
            "needs_background": "light"
          }
        }
      ]
    },
    {
      "cell_type": "markdown",
      "metadata": {
        "id": "RtW4jB0HbFDA"
      },
      "source": [
        "Those receiving e-check have a higher rate of churning."
      ]
    },
    {
      "cell_type": "code",
      "metadata": {
        "colab": {
          "base_uri": "https://localhost:8080/",
          "height": 293
        },
        "id": "F6xZPIs4bApY",
        "outputId": "c20564c8-6f7c-421a-d194-c3aadf6297bf"
      },
      "source": [
        "barplot_percentages(\"PaperlessBilling\")"
      ],
      "execution_count": 89,
      "outputs": [
        {
          "output_type": "display_data",
          "data": {
            "image/png": "[encoded data removed]",
            "text/plain": [
              "<Figure size 432x288 with 1 Axes>"
            ]
          },
          "metadata": {
            "tags": [],
            "needs_background": "light"
          }
        }
      ]
    },
    {
      "cell_type": "code",
      "metadata": {
        "id": "0HIBqR_sbAwl"
      },
      "source": [
        "df=pd.get_dummies(df)"
      ],
      "execution_count": 90,
      "outputs": []
    },
    {
      "cell_type": "code",
      "metadata": {
        "colab": {
          "base_uri": "https://localhost:8080/",
          "height": 258
        },
        "id": "pt2HqxN5boNe",
        "outputId": "278fec30-5046-483f-bc61-af9f1a79d112"
      },
      "source": [
        "df.head()"
      ],
      "execution_count": 91,
      "outputs": [
        {
          "output_type": "execute_result",
          "data": {
            "text/html": [
              "<div>\n",
              "<style scoped>\n",
              "    .dataframe tbody tr th:only-of-type {\n",
              "        vertical-align: middle;\n",
              "    }\n",
              "\n",
              "    .dataframe tbody tr th {\n",
              "        vertical-align: top;\n",
              "    }\n",
              "\n",
              "    .dataframe thead th {\n",
              "        text-align: right;\n",
              "    }\n",
              "</style>\n",
              "<table border=\"1\" class=\"dataframe\">\n",
              "  <thead>\n",
              "    <tr style=\"text-align: right;\">\n",
              "      <th></th>\n",
              "      <th>SeniorCitizen</th>\n",
              "      <th>tenure</th>\n",
              "      <th>MonthlyCharges</th>\n",
              "      <th>TotalCharges</th>\n",
              "      <th>Churn</th>\n",
              "      <th>gender_Female</th>\n",
              "      <th>gender_Male</th>\n",
              "      <th>Partner_No</th>\n",
              "      <th>Partner_Yes</th>\n",
              "      <th>Dependents_No</th>\n",
              "      <th>Dependents_Yes</th>\n",
              "      <th>MultipleLines_No</th>\n",
              "      <th>MultipleLines_No phone service</th>\n",
              "      <th>MultipleLines_Yes</th>\n",
              "      <th>InternetService_DSL</th>\n",
              "      <th>InternetService_Fiber optic</th>\n",
              "      <th>InternetService_No</th>\n",
              "      <th>Contract_Month-to-month</th>\n",
              "      <th>Contract_One year</th>\n",
              "      <th>Contract_Two year</th>\n",
              "      <th>PaperlessBilling_No</th>\n",
              "      <th>PaperlessBilling_Yes</th>\n",
              "      <th>PaymentMethod_Bank transfer (automatic)</th>\n",
              "      <th>PaymentMethod_Credit card (automatic)</th>\n",
              "      <th>PaymentMethod_Electronic check</th>\n",
              "      <th>PaymentMethod_Mailed check</th>\n",
              "    </tr>\n",
              "  </thead>\n",
              "  <tbody>\n",
              "    <tr>\n",
              "      <th>185</th>\n",
              "      <td>0</td>\n",
              "      <td>0.013889</td>\n",
              "      <td>0.208842</td>\n",
              "      <td>0.004149</td>\n",
              "      <td>1</td>\n",
              "      <td>1</td>\n",
              "      <td>0</td>\n",
              "      <td>0</td>\n",
              "      <td>1</td>\n",
              "      <td>1</td>\n",
              "      <td>0</td>\n",
              "      <td>0</td>\n",
              "      <td>1</td>\n",
              "      <td>0</td>\n",
              "      <td>1</td>\n",
              "      <td>0</td>\n",
              "      <td>0</td>\n",
              "      <td>1</td>\n",
              "      <td>0</td>\n",
              "      <td>0</td>\n",
              "      <td>0</td>\n",
              "      <td>1</td>\n",
              "      <td>0</td>\n",
              "      <td>0</td>\n",
              "      <td>1</td>\n",
              "      <td>0</td>\n",
              "    </tr>\n",
              "    <tr>\n",
              "      <th>2715</th>\n",
              "      <td>0</td>\n",
              "      <td>0.569444</td>\n",
              "      <td>0.212632</td>\n",
              "      <td>0.166724</td>\n",
              "      <td>0</td>\n",
              "      <td>0</td>\n",
              "      <td>1</td>\n",
              "      <td>1</td>\n",
              "      <td>0</td>\n",
              "      <td>1</td>\n",
              "      <td>0</td>\n",
              "      <td>0</td>\n",
              "      <td>0</td>\n",
              "      <td>1</td>\n",
              "      <td>0</td>\n",
              "      <td>0</td>\n",
              "      <td>1</td>\n",
              "      <td>1</td>\n",
              "      <td>0</td>\n",
              "      <td>0</td>\n",
              "      <td>0</td>\n",
              "      <td>1</td>\n",
              "      <td>1</td>\n",
              "      <td>0</td>\n",
              "      <td>0</td>\n",
              "      <td>0</td>\n",
              "    </tr>\n",
              "    <tr>\n",
              "      <th>3825</th>\n",
              "      <td>0</td>\n",
              "      <td>0.722222</td>\n",
              "      <td>0.162947</td>\n",
              "      <td>0.172622</td>\n",
              "      <td>0</td>\n",
              "      <td>1</td>\n",
              "      <td>0</td>\n",
              "      <td>0</td>\n",
              "      <td>1</td>\n",
              "      <td>0</td>\n",
              "      <td>1</td>\n",
              "      <td>1</td>\n",
              "      <td>0</td>\n",
              "      <td>0</td>\n",
              "      <td>0</td>\n",
              "      <td>0</td>\n",
              "      <td>1</td>\n",
              "      <td>0</td>\n",
              "      <td>0</td>\n",
              "      <td>1</td>\n",
              "      <td>1</td>\n",
              "      <td>0</td>\n",
              "      <td>0</td>\n",
              "      <td>0</td>\n",
              "      <td>0</td>\n",
              "      <td>1</td>\n",
              "    </tr>\n",
              "    <tr>\n",
              "      <th>1807</th>\n",
              "      <td>0</td>\n",
              "      <td>0.013889</td>\n",
              "      <td>0.642947</td>\n",
              "      <td>0.012775</td>\n",
              "      <td>1</td>\n",
              "      <td>1</td>\n",
              "      <td>0</td>\n",
              "      <td>1</td>\n",
              "      <td>0</td>\n",
              "      <td>1</td>\n",
              "      <td>0</td>\n",
              "      <td>1</td>\n",
              "      <td>0</td>\n",
              "      <td>0</td>\n",
              "      <td>0</td>\n",
              "      <td>1</td>\n",
              "      <td>0</td>\n",
              "      <td>1</td>\n",
              "      <td>0</td>\n",
              "      <td>0</td>\n",
              "      <td>1</td>\n",
              "      <td>0</td>\n",
              "      <td>0</td>\n",
              "      <td>0</td>\n",
              "      <td>1</td>\n",
              "      <td>0</td>\n",
              "    </tr>\n",
              "    <tr>\n",
              "      <th>132</th>\n",
              "      <td>0</td>\n",
              "      <td>0.930556</td>\n",
              "      <td>0.425684</td>\n",
              "      <td>0.545474</td>\n",
              "      <td>0</td>\n",
              "      <td>0</td>\n",
              "      <td>1</td>\n",
              "      <td>1</td>\n",
              "      <td>0</td>\n",
              "      <td>1</td>\n",
              "      <td>0</td>\n",
              "      <td>1</td>\n",
              "      <td>0</td>\n",
              "      <td>0</td>\n",
              "      <td>1</td>\n",
              "      <td>0</td>\n",
              "      <td>0</td>\n",
              "      <td>0</td>\n",
              "      <td>0</td>\n",
              "      <td>1</td>\n",
              "      <td>1</td>\n",
              "      <td>0</td>\n",
              "      <td>1</td>\n",
              "      <td>0</td>\n",
              "      <td>0</td>\n",
              "      <td>0</td>\n",
              "    </tr>\n",
              "  </tbody>\n",
              "</table>\n",
              "</div>"
            ],
            "text/plain": [
              "      SeniorCitizen  ...  PaymentMethod_Mailed check\n",
              "185               0  ...                           0\n",
              "2715              0  ...                           0\n",
              "3825              0  ...                           1\n",
              "1807              0  ...                           0\n",
              "132               0  ...                           0\n",
              "\n",
              "[5 rows x 26 columns]"
            ]
          },
          "metadata": {
            "tags": []
          },
          "execution_count": 91
        }
      ]
    },
    {
      "cell_type": "markdown",
      "metadata": {
        "id": "8dH58-gvcw03"
      },
      "source": [
        "Now all the variables are ready to be fed into the model. "
      ]
    },
    {
      "cell_type": "markdown",
      "metadata": {
        "id": "AgrWsoeH2K2W"
      },
      "source": [
        "### Implement Machine Learning Models and Evaluating"
      ]
    },
    {
      "cell_type": "code",
      "metadata": {
        "id": "SkLD1GTi2K2X"
      },
      "source": [
        "y_train=df['Churn'][:4000]\n",
        "y_test=df['Churn'][4000:]\n",
        "\n",
        "X=df.drop(['Churn'],axis=1)\n",
        "x_train=X[:4000]\n",
        "x_test=X[4000:]"
      ],
      "execution_count": 92,
      "outputs": []
    },
    {
      "cell_type": "code",
      "metadata": {
        "id": "yGH_Vfof2K2X",
        "colab": {
          "base_uri": "https://localhost:8080/"
        },
        "outputId": "29a17dbb-f5ef-4797-8f8d-7bbb130446c4"
      },
      "source": [
        "x_train.shape , x_test.shape , y_train.shape , y_test.shape"
      ],
      "execution_count": 93,
      "outputs": [
        {
          "output_type": "execute_result",
          "data": {
            "text/plain": [
              "((4000, 25), (3032, 25), (4000,), (3032,))"
            ]
          },
          "metadata": {
            "tags": []
          },
          "execution_count": 93
        }
      ]
    },
    {
      "cell_type": "code",
      "metadata": {
        "id": "fcBZ70CPsENf"
      },
      "source": [
        "from sklearn.metrics import accuracy_score"
      ],
      "execution_count": 121,
      "outputs": []
    },
    {
      "cell_type": "markdown",
      "metadata": {
        "id": "TheF_oCMtGKT"
      },
      "source": [
        "### Logistic Regression "
      ]
    },
    {
      "cell_type": "code",
      "metadata": {
        "id": "npTDVO0q2K2X",
        "colab": {
          "base_uri": "https://localhost:8080/"
        },
        "outputId": "3afff32e-1b57-4fc2-d435-a3a18c5b460b"
      },
      "source": [
        "from sklearn.linear_model import LogisticRegression\n",
        "lr=LogisticRegression(random_state=42)\n",
        "lr.fit(x_train,y_train)\n",
        "lr.predict(x_test)\n",
        "y_pred=lr.predict(x_test)\n",
        "\n",
        "accuracy_score(y_pred,y_test)"
      ],
      "execution_count": 122,
      "outputs": [
        {
          "output_type": "execute_result",
          "data": {
            "text/plain": [
              "0.7991424802110818"
            ]
          },
          "metadata": {
            "tags": []
          },
          "execution_count": 122
        }
      ]
    },
    {
      "cell_type": "markdown",
      "metadata": {
        "id": "bmTt8D1HtKPZ"
      },
      "source": [
        "### Decision Tree"
      ]
    },
    {
      "cell_type": "code",
      "metadata": {
        "id": "Ipl75H-g2K2X",
        "colab": {
          "base_uri": "https://localhost:8080/"
        },
        "outputId": "643f8332-8a77-4d35-ee80-91820b83bf48"
      },
      "source": [
        "from sklearn.tree import DecisionTreeClassifier\n",
        "dt=DecisionTreeClassifier(max_depth=4,random_state=42,min_samples_leaf=3)\n",
        "dt.fit(x_train,y_train)\n",
        "dt.predict(x_test)\n",
        "y_pred=dt.predict(x_test)\n",
        "\n",
        "accuracy_score(y_pred,y_test)"
      ],
      "execution_count": 123,
      "outputs": [
        {
          "output_type": "execute_result",
          "data": {
            "text/plain": [
              "0.7885883905013192"
            ]
          },
          "metadata": {
            "tags": []
          },
          "execution_count": 123
        }
      ]
    },
    {
      "cell_type": "markdown",
      "metadata": {
        "id": "D3nkjH3YtNIS"
      },
      "source": [
        "### Gaussian Naive Bayes"
      ]
    },
    {
      "cell_type": "code",
      "metadata": {
        "id": "FhI2RuhX2K2X",
        "colab": {
          "base_uri": "https://localhost:8080/"
        },
        "outputId": "9e010d98-9a46-41ae-891e-214efaf773d5"
      },
      "source": [
        "from sklearn.naive_bayes import GaussianNB\n",
        "nb=GaussianNB()\n",
        "nb.fit(x_train,y_train)\n",
        "nb.predict(x_test)\n",
        "y_pred=nb.predict(x_test)\n",
        "\n",
        "accuracy_score(y_pred,y_test)"
      ],
      "execution_count": 126,
      "outputs": [
        {
          "output_type": "execute_result",
          "data": {
            "text/plain": [
              "0.7318601583113457"
            ]
          },
          "metadata": {
            "tags": []
          },
          "execution_count": 126
        }
      ]
    },
    {
      "cell_type": "markdown",
      "metadata": {
        "id": "YdM2HQHbtQL1"
      },
      "source": [
        "### Multinomial Naive Bayes"
      ]
    },
    {
      "cell_type": "code",
      "metadata": {
        "id": "JOpQ0O7w2K2X",
        "colab": {
          "base_uri": "https://localhost:8080/"
        },
        "outputId": "98205735-4138-4e0f-ea16-739481d9dc44"
      },
      "source": [
        "from sklearn.naive_bayes import MultinomialNB\n",
        "nb2=MultinomialNB()\n",
        "nb2.fit(x_train,y_train)\n",
        "nb2.predict(x_test)\n",
        "y_pred=nb2.predict(x_test)\n",
        "\n",
        "accuracy_score(y_pred,y_test)"
      ],
      "execution_count": 143,
      "outputs": [
        {
          "output_type": "execute_result",
          "data": {
            "text/plain": [
              "0.7638522427440633"
            ]
          },
          "metadata": {
            "tags": []
          },
          "execution_count": 143
        }
      ]
    },
    {
      "cell_type": "markdown",
      "metadata": {
        "id": "R6BtEGgEvY67"
      },
      "source": [
        "### Random Forest"
      ]
    },
    {
      "cell_type": "code",
      "metadata": {
        "id": "h1lS_qy_2K2X",
        "colab": {
          "base_uri": "https://localhost:8080/"
        },
        "outputId": "e324f4a5-c7a7-4869-bab7-42d01c4fd308"
      },
      "source": [
        "from sklearn.ensemble import RandomForestClassifier\n",
        "clf=RandomForestClassifier(max_depth=6,min_samples_leaf=3,random_state=42)\n",
        "clf.fit(x_train,y_train)\n",
        "clf.predict(x_test)\n",
        "y_pred=clf.predict(x_test)\n",
        "\n",
        "accuracy_score(y_pred,y_test)"
      ],
      "execution_count": 141,
      "outputs": [
        {
          "output_type": "execute_result",
          "data": {
            "text/plain": [
              "0.795844327176781"
            ]
          },
          "metadata": {
            "tags": []
          },
          "execution_count": 141
        }
      ]
    },
    {
      "cell_type": "code",
      "metadata": {
        "id": "5AIelQCh2K2Y",
        "colab": {
          "base_uri": "https://localhost:8080/"
        },
        "outputId": "134f8904-e3a9-4b8f-adc0-d56a2b0b67f3"
      },
      "source": [
        "clf.feature_importances_"
      ],
      "execution_count": 131,
      "outputs": [
        {
          "output_type": "execute_result",
          "data": {
            "text/plain": [
              "array([0.02512809, 0.18531146, 0.1945442 , 0.19624283, 0.01777211,\n",
              "       0.01738163, 0.01478089, 0.01460352, 0.01359552, 0.01261947,\n",
              "       0.01410618, 0.00653493, 0.01418224, 0.01284324, 0.03997203,\n",
              "       0.0126151 , 0.07364228, 0.00960288, 0.01467016, 0.01580286,\n",
              "       0.01644392, 0.01278971, 0.01236993, 0.0412506 , 0.01119423])"
            ]
          },
          "metadata": {
            "tags": []
          },
          "execution_count": 131
        }
      ]
    },
    {
      "cell_type": "code",
      "metadata": {
        "colab": {
          "base_uri": "https://localhost:8080/"
        },
        "id": "btuRRnSkuU5m",
        "outputId": "31843f4b-f7ec-4258-cded-1d023b2ceccc"
      },
      "source": [
        "pd.Series(clf.feature_importances_,index=x_train.columns)"
      ],
      "execution_count": 132,
      "outputs": [
        {
          "output_type": "execute_result",
          "data": {
            "text/plain": [
              "SeniorCitizen                              0.025128\n",
              "tenure                                     0.185311\n",
              "MonthlyCharges                             0.194544\n",
              "TotalCharges                               0.196243\n",
              "gender_Female                              0.017772\n",
              "gender_Male                                0.017382\n",
              "Partner_No                                 0.014781\n",
              "Partner_Yes                                0.014604\n",
              "Dependents_No                              0.013596\n",
              "Dependents_Yes                             0.012619\n",
              "MultipleLines_No                           0.014106\n",
              "MultipleLines_No phone service             0.006535\n",
              "MultipleLines_Yes                          0.014182\n",
              "InternetService_DSL                        0.012843\n",
              "InternetService_Fiber optic                0.039972\n",
              "InternetService_No                         0.012615\n",
              "Contract_Month-to-month                    0.073642\n",
              "Contract_One year                          0.009603\n",
              "Contract_Two year                          0.014670\n",
              "PaperlessBilling_No                        0.015803\n",
              "PaperlessBilling_Yes                       0.016444\n",
              "PaymentMethod_Bank transfer (automatic)    0.012790\n",
              "PaymentMethod_Credit card (automatic)      0.012370\n",
              "PaymentMethod_Electronic check             0.041251\n",
              "PaymentMethod_Mailed check                 0.011194\n",
              "dtype: float64"
            ]
          },
          "metadata": {
            "tags": []
          },
          "execution_count": 132
        }
      ]
    },
    {
      "cell_type": "markdown",
      "metadata": {
        "id": "en05V2_guxPZ"
      },
      "source": [
        "From this data it is clear that TotalCharges, MonthlyCharges and tenure contribute the most towards the target variable. Consequently all of these are numerical variables.\n",
        "\n",
        "From categorical variables, the most contributing features are Contract, PaymentMethod, InternetService and SeniorCitizen (in that order)."
      ]
    },
    {
      "cell_type": "markdown",
      "metadata": {
        "id": "hSItNw3Mvg7j"
      },
      "source": [
        "### Gradient Boosting Decision Tree"
      ]
    },
    {
      "cell_type": "code",
      "metadata": {
        "id": "3X1kfnW42K2Y",
        "colab": {
          "base_uri": "https://localhost:8080/"
        },
        "outputId": "20cfe183-e59e-4cbe-ef35-df0bb617c0f2"
      },
      "source": [
        "from sklearn.ensemble import GradientBoostingClassifier\n",
        "gbdt=RandomForestClassifier(max_depth=6,min_samples_leaf=3,random_state=42)\n",
        "gbdt.fit(x_train,y_train)\n",
        "gbdt.predict(x_test)\n",
        "y_pred=gbdt.predict(x_test)\n",
        "\n",
        "accuracy_score(y_pred,y_test)"
      ],
      "execution_count": 140,
      "outputs": [
        {
          "output_type": "execute_result",
          "data": {
            "text/plain": [
              "0.795844327176781"
            ]
          },
          "metadata": {
            "tags": []
          },
          "execution_count": 140
        }
      ]
    },
    {
      "cell_type": "markdown",
      "metadata": {
        "id": "zDfFxd_qxDUi"
      },
      "source": [
        "### XGBoost Classifier"
      ]
    },
    {
      "cell_type": "code",
      "metadata": {
        "id": "k67VqovH2K2Y",
        "colab": {
          "base_uri": "https://localhost:8080/"
        },
        "outputId": "aff94d4b-46e6-4945-f298-d72508650459"
      },
      "source": [
        "from xgboost import XGBClassifier\n",
        "xgb=XGBClassifier(max_depth=6,min_samples_leaf=3,random_state=42)\n",
        "xgb.fit(x_train,y_train)\n",
        "xgb.predict(x_test)\n",
        "y_pred=xgb.predict(x_test)\n",
        "\n",
        "accuracy_score(y_pred,y_test)"
      ],
      "execution_count": 146,
      "outputs": [
        {
          "output_type": "execute_result",
          "data": {
            "text/plain": [
              "0.7922163588390502"
            ]
          },
          "metadata": {
            "tags": []
          },
          "execution_count": 146
        }
      ]
    },
    {
      "cell_type": "markdown",
      "metadata": {
        "id": "XuklPG4uyzMW"
      },
      "source": [
        "### Support Vector Machine"
      ]
    },
    {
      "cell_type": "code",
      "metadata": {
        "colab": {
          "base_uri": "https://localhost:8080/"
        },
        "id": "egsRLNFlyx86",
        "outputId": "a24bee37-b225-42f1-f827-ae75cd6d3c05"
      },
      "source": [
        "from sklearn.svm import SVC\n",
        "svc=SVC(random_state=42)\n",
        "svc.fit(x_train,y_train)\n",
        "svc.predict(x_test)\n",
        "y_pred=svc.predict(x_test)\n",
        "\n",
        "accuracy_score(y_pred,y_test)"
      ],
      "execution_count": 154,
      "outputs": [
        {
          "output_type": "execute_result",
          "data": {
            "text/plain": [
              "0.7925461741424802"
            ]
          },
          "metadata": {
            "tags": []
          },
          "execution_count": 154
        }
      ]
    },
    {
      "cell_type": "markdown",
      "metadata": {
        "id": "Zb_3y34_2K2Z"
      },
      "source": [
        "### Final Conclusions"
      ]
    },
    {
      "cell_type": "markdown",
      "metadata": {
        "id": "2L5GoSUqzkEv"
      },
      "source": [
        "\n",
        "\n",
        "*   Logistic Regression performs the best on this data. The reason behind is the \n",
        "small size of the dataset and the 55:45 split of train and test data.\n",
        "*   Deeper and more complex models require more data to capture the patterns in order to perform well.\n",
        "\n",
        "*   According to the data the certain conclusions can be made :\n",
        "\n",
        "\n",
        "\n",
        "\n",
        "1.   People with month-to-month contracts could be given longer contracts so that they don't churn.\n",
        "2.   People with low rate of monthly and total charges could be offered some policies so that they are retained.\n",
        "3.   People that have a low tenure have a high rate of tenure and they should be given better incentives to stick around.\n",
        "4.   Senior Citizens have a higher churn rate and they should be focused on for them to be retained. \n",
        "\n",
        "*  If these actions are implemented, it can be predicted with an accuracy of approximately 80% that a person will further churn or not using this model. There is simply a need to obtain the new data from the changes and predict the churn probability for any and every new entry. \n",
        "\n",
        "\n",
        "\n",
        "\n",
        "\n",
        "\n"
      ]
    },
    {
      "cell_type": "code",
      "metadata": {
        "id": "OwDDioZI12Yo"
      },
      "source": [
        ""
      ],
      "execution_count": null,
      "outputs": []
    }
  ]
}